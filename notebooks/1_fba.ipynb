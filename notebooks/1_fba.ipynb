{
 "cells": [
  {
   "cell_type": "markdown",
   "metadata": {},
   "source": [
    "# 1. Getting Started"
   ]
  },
  {
   "cell_type": "markdown",
   "metadata": {},
   "source": [
    "## Authors: \n",
    "* Arianna Basile, MRC Toxicology Unit, University of Cambridge\n",
    "* Francisco Zorrilla, MRC Toxicology Unit, University of Cambridge"
   ]
  },
  {
   "cell_type": "markdown",
   "metadata": {},
   "source": [
    "## Learning Outcomes\n",
    "\n",
    "In this tutorial you will use [cobrapy](https://cobrapy.readthedocs.io/en/latest/) to learn the following:\n",
    "\n",
    "* **1.1**: Import a metabolic reconstruction\n",
    "* **1.2**: Inspect the reactions of your model\n",
    "* **1.3**: Inspect the metabolites in your model\n",
    "* **1.4**: Inspect the genes in your model\n",
    "* **1.4.1**: Perform in-silico gene knockout experiments"
   ]
  },
  {
   "cell_type": "code",
   "execution_count": 1,
   "metadata": {},
   "outputs": [],
   "source": [
    "# Import required packages\n",
    "import cobra\n",
    "\n",
    "# Enable autocompleting with tab key\n",
    "%config Completer.use_jedi = False\n"
   ]
  },
  {
   "cell_type": "markdown",
   "metadata": {},
   "source": [
    "## 1.1 Import a reconstruction"
   ]
  },
  {
   "cell_type": "markdown",
   "metadata": {},
   "source": [
    "The [Systems Biology Markup Language](https://sbml.org/) is an XML-based standard format for distributing models which has support for COBRA models through the FBC extension version 2.\n",
    "\n",
    "Cobrapy has native support for reading and writing SBML with FBCv2. Please note that all id’s in the model must conform to the SBML SID requirements in order to generate a valid SBML file.\n",
    "\n",
    "Let's download and import the model of <a href=\"http://bigg.ucsd.edu/search?query=Saccharomyces+cerevisiae+S288C\"> Saccharomyces cerevisiae</a>."
   ]
  },
  {
   "cell_type": "code",
   "execution_count": 2,
   "metadata": {},
   "outputs": [],
   "source": [
    "model_yeast=cobra.io.read_sbml_model(\"iMM904.xml.gz\")"
   ]
  },
  {
   "cell_type": "markdown",
   "metadata": {},
   "source": [
    "The reactions, metabolites, genes, and compartments attributes of the cobrapy model are a special type of `list` called a `cobra.DictList`, and each one is made up of `cobra.Reaction`, `cobra.Metabolite`, `cobra.Gene`, `cobra.Compartment` objects, respectively."
   ]
  },
  {
   "cell_type": "code",
   "execution_count": 3,
   "metadata": {},
   "outputs": [
    {
     "name": "stdout",
     "output_type": "stream",
     "text": [
      "Reactions:  1577\n",
      "Metabolites:  1226\n",
      "Genes:  905\n",
      "Compartments:  8\n"
     ]
    }
   ],
   "source": [
    "print(\"Reactions: \",len(model_yeast.reactions))\n",
    "print(\"Metabolites: \",len(model_yeast.metabolites))\n",
    "print(\"Genes: \",len(model_yeast.genes))\n",
    "print(\"Compartments: \",len(model_yeast.compartments))"
   ]
  },
  {
   "cell_type": "markdown",
   "metadata": {},
   "source": [
    "When using Jupyter notebooks, this type of information is rendered as a table."
   ]
  },
  {
   "cell_type": "code",
   "execution_count": 4,
   "metadata": {},
   "outputs": [
    {
     "data": {
      "text/html": [
       "\n",
       "        <table>\n",
       "            <tr>\n",
       "                <td><strong>Name</strong></td>\n",
       "                <td>iMM904</td>\n",
       "            </tr><tr>\n",
       "                <td><strong>Memory address</strong></td>\n",
       "                <td>0x07ff0fba967c0</td>\n",
       "            </tr><tr>\n",
       "                <td><strong>Number of metabolites</strong></td>\n",
       "                <td>1226</td>\n",
       "            </tr><tr>\n",
       "                <td><strong>Number of reactions</strong></td>\n",
       "                <td>1577</td>\n",
       "            </tr><tr>\n",
       "                <td><strong>Number of groups</strong></td>\n",
       "                <td>0</td>\n",
       "            </tr><tr>\n",
       "                <td><strong>Objective expression</strong></td>\n",
       "                <td>1.0*BIOMASS_SC5_notrace - 1.0*BIOMASS_SC5_notrace_reverse_93090</td>\n",
       "            </tr><tr>\n",
       "                <td><strong>Compartments</strong></td>\n",
       "                <td>cytosol, extracellular space, mitochondria, peroxisome/glyoxysome, endoplasmic reticulum, vacuole, golgi apparatus, nucleus</td>\n",
       "            </tr>\n",
       "          </table>"
      ],
      "text/plain": [
       "<Model iMM904 at 0x7ff0fba967c0>"
      ]
     },
     "execution_count": 4,
     "metadata": {},
     "output_type": "execute_result"
    }
   ],
   "source": [
    "model_yeast"
   ]
  },
  {
   "cell_type": "markdown",
   "metadata": {},
   "source": [
    "Just like a regular list, objects in the `DictList` can be retrieved by index. For example, to get the 3rd reaction in the model (at index 2nd because of 0-indexing):"
   ]
  },
  {
   "cell_type": "code",
   "execution_count": 5,
   "metadata": {},
   "outputs": [
    {
     "data": {
      "text/html": [
       "\n",
       "        <table>\n",
       "            <tr>\n",
       "                <td><strong>Reaction identifier</strong></td><td>13BGHe</td>\n",
       "            </tr><tr>\n",
       "                <td><strong>Name</strong></td><td>Exo 1 3 beta glucan glucohydrase</td>\n",
       "            </tr><tr>\n",
       "                <td><strong>Memory address</strong></td>\n",
       "                <td>0x07ff10a88fa90</td>\n",
       "            </tr><tr>\n",
       "                <td><strong>Stoichiometry</strong></td>\n",
       "                <td>\n",
       "                    <p style='text-align:right'>13BDglcn_e + h2o_e --> glc__D_e</p>\n",
       "                    <p style='text-align:right'>1 3 beta D Glucan C6H10O5 + H2O H2O --> D-Glucose</p>\n",
       "                </td>\n",
       "            </tr><tr>\n",
       "                <td><strong>GPR</strong></td><td>YOR190W or YDR261C or YLR300W</td>\n",
       "            </tr><tr>\n",
       "                <td><strong>Lower bound</strong></td><td>0.0</td>\n",
       "            </tr><tr>\n",
       "                <td><strong>Upper bound</strong></td><td>999999.0</td>\n",
       "            </tr>\n",
       "        </table>\n",
       "        "
      ],
      "text/plain": [
       "<Reaction 13BGHe at 0x7ff10a88fa90>"
      ]
     },
     "execution_count": 5,
     "metadata": {},
     "output_type": "execute_result"
    }
   ],
   "source": [
    "model_yeast.reactions[2]"
   ]
  },
  {
   "cell_type": "markdown",
   "metadata": {},
   "source": [
    "Additionally, items can be retrieved by their id using the `DictList.get_by_id()` function. For example, to get the cytosolic atp metabolite object (the id is `atp_c`), we will inspect metabolites in the section 1.3\n",
    "For the moment, we can focus on the reactions of our model. "
   ]
  },
  {
   "cell_type": "markdown",
   "metadata": {},
   "source": [
    "## 1.2 Reactions"
   ]
  },
  {
   "cell_type": "markdown",
   "metadata": {},
   "source": [
    "We will consider the reaction glucose 6-phosphate isomerase, which interconverts glucose 6-phosphate and fructose 6-phosphate. The reaction id for this reaction in our test model is PGI. However, if you want to see the IDs of the first `N` number of reactions in the reconstruction, you can run the code below:"
   ]
  },
  {
   "cell_type": "code",
   "execution_count": 6,
   "metadata": {},
   "outputs": [
    {
     "data": {
      "text/plain": [
       "['CITtcp',\n",
       " '13BGH',\n",
       " '13BGHe',\n",
       " '13GS',\n",
       " '16GS',\n",
       " '23CAPPD',\n",
       " '2DDA7Ptm',\n",
       " '2DHPtm',\n",
       " '2DOXG6PP',\n",
       " '2HBO',\n",
       " '2HBt2',\n",
       " '2HMHMBQMTm',\n",
       " '2HP6MPMOm',\n",
       " '2HPMBQMTm',\n",
       " '2HPMMBQMOm',\n",
       " '2MBACt',\n",
       " 'EX_epistest_SC_e',\n",
       " 'EX_epist_e',\n",
       " '2MBALDt',\n",
       " '2MBALDtm']"
      ]
     },
     "execution_count": 6,
     "metadata": {},
     "output_type": "execute_result"
    }
   ],
   "source": [
    "reaction_ids = [reaction.id for reaction in model_yeast.reactions]\n",
    "N=20\n",
    "reaction_ids[:N]"
   ]
  },
  {
   "cell_type": "markdown",
   "metadata": {},
   "source": [
    "Now, let's focus on PGI or another reaction of your choice:"
   ]
  },
  {
   "cell_type": "code",
   "execution_count": 7,
   "metadata": {},
   "outputs": [
    {
     "data": {
      "text/html": [
       "\n",
       "        <table>\n",
       "            <tr>\n",
       "                <td><strong>Reaction identifier</strong></td><td>PGI</td>\n",
       "            </tr><tr>\n",
       "                <td><strong>Name</strong></td><td>Glucose-6-phosphate isomerase</td>\n",
       "            </tr><tr>\n",
       "                <td><strong>Memory address</strong></td>\n",
       "                <td>0x07ff10b150fa0</td>\n",
       "            </tr><tr>\n",
       "                <td><strong>Stoichiometry</strong></td>\n",
       "                <td>\n",
       "                    <p style='text-align:right'>g6p_c <=> f6p_c</p>\n",
       "                    <p style='text-align:right'>D-Glucose 6-phosphate <=> D-Fructose 6-phosphate</p>\n",
       "                </td>\n",
       "            </tr><tr>\n",
       "                <td><strong>GPR</strong></td><td>YBR196C</td>\n",
       "            </tr><tr>\n",
       "                <td><strong>Lower bound</strong></td><td>-999999.0</td>\n",
       "            </tr><tr>\n",
       "                <td><strong>Upper bound</strong></td><td>999999.0</td>\n",
       "            </tr>\n",
       "        </table>\n",
       "        "
      ],
      "text/plain": [
       "<Reaction PGI at 0x7ff10b150fa0>"
      ]
     },
     "execution_count": 7,
     "metadata": {},
     "output_type": "execute_result"
    }
   ],
   "source": [
    "pgi = model_yeast.reactions.get_by_id(\"PGI\")\n",
    "pgi"
   ]
  },
  {
   "cell_type": "markdown",
   "metadata": {},
   "source": [
    "We can view the full name and reaction catalyzed as strings."
   ]
  },
  {
   "cell_type": "code",
   "execution_count": 8,
   "metadata": {},
   "outputs": [
    {
     "name": "stdout",
     "output_type": "stream",
     "text": [
      "Glucose-6-phosphate isomerase\n",
      "g6p_c <=> f6p_c\n"
     ]
    }
   ],
   "source": [
    "print(pgi.name)\n",
    "print(pgi.reaction)"
   ]
  },
  {
   "cell_type": "markdown",
   "metadata": {},
   "source": [
    "We can also view reaction upper and lower bounds, large numbers, typically around 1000 or more, are used as infinite limits (unconstained fluxes). \n",
    "Because the `pgi.lower_bound` < 0, and `pgi.upper_bound` > 0, pgi is reversible."
   ]
  },
  {
   "cell_type": "code",
   "execution_count": 9,
   "metadata": {},
   "outputs": [
    {
     "name": "stdout",
     "output_type": "stream",
     "text": [
      "-999999.0 < pgi < 999999.0\n",
      "True\n"
     ]
    }
   ],
   "source": [
    "print(pgi.lower_bound, \"< pgi <\", pgi.upper_bound)\n",
    "print(pgi.reversibility)"
   ]
  },
  {
   "cell_type": "markdown",
   "metadata": {},
   "source": [
    "The lower and upper bound of reactions can also be modified, and the reversibility attribute will automatically be updated. The preferred method for manipulating bounds is using reaction.bounds, e.g."
   ]
  },
  {
   "cell_type": "code",
   "execution_count": 10,
   "metadata": {},
   "outputs": [
    {
     "name": "stdout",
     "output_type": "stream",
     "text": [
      "New bounds:  0 < pgi < 1000.0\n",
      "Reversibility after modification: False\n",
      "Reversibility after resetting: True\n"
     ]
    }
   ],
   "source": [
    "# Save original bounds\n",
    "old_bounds = pgi.bounds\n",
    "\n",
    "# Define and print new bounds\n",
    "pgi.bounds = (0, 1000.0)\n",
    "print(\"New bounds: \",pgi.lower_bound, \"< pgi <\", pgi.upper_bound)\n",
    "print(\"Reversibility after modification:\", pgi.reversibility)\n",
    "\n",
    "# Reset bounds and show reversibility\n",
    "pgi.bounds = old_bounds\n",
    "print(\"Reversibility after resetting:\", pgi.reversibility)"
   ]
  },
  {
   "cell_type": "markdown",
   "metadata": {},
   "source": [
    "We can also ensure the reaction is mass balanced. This function will return elements which violate mass balance. If it comes back empty, then the reaction is mass balanced."
   ]
  },
  {
   "cell_type": "code",
   "execution_count": 11,
   "metadata": {},
   "outputs": [
    {
     "data": {
      "text/plain": [
       "{}"
      ]
     },
     "execution_count": 11,
     "metadata": {},
     "output_type": "execute_result"
    }
   ],
   "source": [
    "pgi.check_mass_balance()"
   ]
  },
  {
   "cell_type": "markdown",
   "metadata": {},
   "source": [
    "In order to add a metabolite, we pass in a dictionary with the metabolite object and its coefficient"
   ]
  },
  {
   "cell_type": "code",
   "execution_count": 12,
   "metadata": {},
   "outputs": [
    {
     "data": {
      "text/plain": [
       "'g6p_c + h_c <=> f6p_c'"
      ]
     },
     "execution_count": 12,
     "metadata": {},
     "output_type": "execute_result"
    }
   ],
   "source": [
    "pgi.add_metabolites({model_yeast.metabolites.get_by_id(\"h_c\"): -1})\n",
    "pgi.reaction"
   ]
  },
  {
   "cell_type": "markdown",
   "metadata": {},
   "source": [
    "The reaction is no longer mass balanced"
   ]
  },
  {
   "cell_type": "code",
   "execution_count": 13,
   "metadata": {},
   "outputs": [
    {
     "data": {
      "text/plain": [
       "{'charge': -1.0, 'H': -1.0}"
      ]
     },
     "execution_count": 13,
     "metadata": {},
     "output_type": "execute_result"
    }
   ],
   "source": [
    "pgi.check_mass_balance()"
   ]
  },
  {
   "cell_type": "markdown",
   "metadata": {},
   "source": [
    "We can remove the metabolite, and the reaction will be balanced once again.\n",
    "\n"
   ]
  },
  {
   "cell_type": "code",
   "execution_count": 14,
   "metadata": {},
   "outputs": [
    {
     "name": "stdout",
     "output_type": "stream",
     "text": [
      "g6p_c <=> f6p_c\n",
      "{}\n"
     ]
    }
   ],
   "source": [
    "pgi.subtract_metabolites({model_yeast.metabolites.get_by_id(\"h_c\"): -1})\n",
    "print(pgi.reaction)\n",
    "print(pgi.check_mass_balance())"
   ]
  },
  {
   "cell_type": "markdown",
   "metadata": {},
   "source": [
    "## 1.3 Metabolites"
   ]
  },
  {
   "cell_type": "markdown",
   "metadata": {},
   "source": [
    "We will consider cytosolic atp as our metabolite, which has the id `atp_c` in our test model. However, if you want to see the IDs of the frist N metabolites in the reconstruction, you can run the code below:"
   ]
  },
  {
   "cell_type": "code",
   "execution_count": 15,
   "metadata": {},
   "outputs": [
    {
     "data": {
      "text/plain": [
       "['2dr5p_c',\n",
       " '2hb_c',\n",
       " '2hb_e',\n",
       " '2hhxdal_c',\n",
       " '2hp6mbq_m',\n",
       " '2hp6mp_m',\n",
       " '2hpmhmbq_m',\n",
       " '2hpmmbq_m',\n",
       " '2ippm_c',\n",
       " '2kmb_c',\n",
       " '2mahmp_c',\n",
       " '2mbac_c',\n",
       " '2mbac_e',\n",
       " '2mbald_c',\n",
       " '2mbald_e',\n",
       " '2mbald_m',\n",
       " '2mbtoh_c',\n",
       " '2mbtoh_e',\n",
       " '2mbtoh_m',\n",
       " '2mcit_m']"
      ]
     },
     "execution_count": 15,
     "metadata": {},
     "output_type": "execute_result"
    }
   ],
   "source": [
    "metabolite_ids = [metabolite.id for metabolite in model_yeast.metabolites]\n",
    "N=20\n",
    "metabolite_ids[:N]"
   ]
  },
  {
   "cell_type": "markdown",
   "metadata": {},
   "source": [
    "Now, let's focus on `atp_c` or another metabolite of your choice:"
   ]
  },
  {
   "cell_type": "code",
   "execution_count": 16,
   "metadata": {},
   "outputs": [
    {
     "data": {
      "text/html": [
       "\n",
       "        <table>\n",
       "            <tr>\n",
       "                <td><strong>Metabolite identifier</strong></td><td>atp_c</td>\n",
       "            </tr><tr>\n",
       "                <td><strong>Name</strong></td><td>ATP C10H12N5O13P3</td>\n",
       "            </tr><tr>\n",
       "                <td><strong>Memory address</strong></td>\n",
       "                <td>0x07ff10a4e71c0</td>\n",
       "            </tr><tr>\n",
       "                <td><strong>Formula</strong></td><td>C10H12N5O13P3</td>\n",
       "            </tr><tr>\n",
       "                <td><strong>Compartment</strong></td><td>c</td>\n",
       "            </tr><tr>\n",
       "                <td><strong>In 149 reaction(s)</strong></td><td>\n",
       "                    FMNAT, GLYTRS, DTMPK, ADK1, FACOAL180, ETHAK, RNTR1, FACOAL182, NDPK4, INSK, CYSTRS, FACOAL140, NDPK2, GLNS, AASAD1, PRAGSr, PROTRS, ACCOAC, PRPPS, NDPK9, HEX1, MEVK1, HETZK, TMPK, PRFGS, NDPK8,...</td>\n",
       "            </tr>\n",
       "        </table>"
      ],
      "text/plain": [
       "<Metabolite atp_c at 0x7ff10a4e71c0>"
      ]
     },
     "execution_count": 16,
     "metadata": {},
     "output_type": "execute_result"
    }
   ],
   "source": [
    "atp = model_yeast.metabolites.get_by_id(\"atp_c\")\n",
    "atp"
   ]
  },
  {
   "cell_type": "markdown",
   "metadata": {},
   "source": [
    "We can print out the metabolite name and compartment (cytosol in this case) directly as string.\n",
    "\n"
   ]
  },
  {
   "cell_type": "code",
   "execution_count": 17,
   "metadata": {},
   "outputs": [
    {
     "name": "stdout",
     "output_type": "stream",
     "text": [
      "ATP C10H12N5O13P3\n",
      "c\n"
     ]
    }
   ],
   "source": [
    "print(atp.name)\n",
    "print(atp.compartment)"
   ]
  },
  {
   "cell_type": "markdown",
   "metadata": {},
   "source": [
    "We can see that ATP is a charged molecule in our model.\n",
    "\n"
   ]
  },
  {
   "cell_type": "code",
   "execution_count": 18,
   "metadata": {},
   "outputs": [
    {
     "data": {
      "text/plain": [
       "-4"
      ]
     },
     "execution_count": 18,
     "metadata": {},
     "output_type": "execute_result"
    }
   ],
   "source": [
    "atp.charge"
   ]
  },
  {
   "cell_type": "markdown",
   "metadata": {},
   "source": [
    "We can see the chemical formula for the metabolite as well.\n",
    "\n"
   ]
  },
  {
   "cell_type": "code",
   "execution_count": 19,
   "metadata": {},
   "outputs": [
    {
     "name": "stdout",
     "output_type": "stream",
     "text": [
      "C10H12N5O13P3\n"
     ]
    }
   ],
   "source": [
    "print(atp.formula)"
   ]
  },
  {
   "cell_type": "markdown",
   "metadata": {},
   "source": [
    "## 1.4 Genes"
   ]
  },
  {
   "cell_type": "markdown",
   "metadata": {},
   "source": [
    "The `gene_reaction_rule` is a boolean representation of the gene requirements for this reaction to be active as described in <a href=\"https://www.nature.com/articles/nprot.2011.308\">Schellenberger et al 2011 Nature Protocols 6(9):1290-307</a>.\n",
    "\n",
    "The gene-protein-reaction rules (GPR) are stored as `GPR class` in the GPR field of a reaction object. A string representation can be extracted using `gene_reaction_rule` on a Reaction object."
   ]
  },
  {
   "cell_type": "code",
   "execution_count": 20,
   "metadata": {},
   "outputs": [
    {
     "name": "stdout",
     "output_type": "stream",
     "text": [
      "YBR196C\n"
     ]
    }
   ],
   "source": [
    "gpr_string = pgi.gene_reaction_rule\n",
    "print(gpr_string)"
   ]
  },
  {
   "cell_type": "markdown",
   "metadata": {},
   "source": [
    "Corresponding gene objects also exist. These objects are tracked by the reactions itself, as well as by the model"
   ]
  },
  {
   "cell_type": "code",
   "execution_count": 21,
   "metadata": {},
   "outputs": [
    {
     "data": {
      "text/html": [
       "\n",
       "        <table>\n",
       "            <tr>\n",
       "                <td><strong>Gene identifier</strong></td><td>YBR196C</td>\n",
       "            </tr><tr>\n",
       "                <td><strong>Name</strong></td><td>PGI1</td>\n",
       "            </tr><tr>\n",
       "                <td><strong>Memory address</strong></td>\n",
       "                <td>0x07ff10a7dcf10</td>\n",
       "            </tr><tr>\n",
       "                <td><strong>Functional</strong></td><td>True</td>\n",
       "            </tr><tr>\n",
       "                <td><strong>In 3 reaction(s)</strong></td><td>\n",
       "                    PGI, G6PI, G6PI3</td>\n",
       "            </tr>\n",
       "        </table>"
      ],
      "text/plain": [
       "<Gene YBR196C at 0x7ff10a7dcf10>"
      ]
     },
     "execution_count": 21,
     "metadata": {},
     "output_type": "execute_result"
    }
   ],
   "source": [
    "pgi_gene = model_yeast.genes.get_by_id(\"YBR196C\")\n",
    "pgi_gene"
   ]
  },
  {
   "cell_type": "markdown",
   "metadata": {},
   "source": [
    "To check that this gene is also on KEGG database to assess the consistency of the metabolic reconstruction, click <a href=\"https://www.genome.jp/entry/sce:YBR196C\"> here</a>. "
   ]
  },
  {
   "cell_type": "markdown",
   "metadata": {},
   "source": [
    "### 1.4.1 Simulating Knockouts"
   ]
  },
  {
   "cell_type": "markdown",
   "metadata": {},
   "source": [
    "The `delete_model_genes` function will evaluate the GPR and set the upper and lower bounds to 0 if the reaction is knocked out."
   ]
  },
  {
   "cell_type": "code",
   "execution_count": 22,
   "metadata": {},
   "outputs": [
    {
     "name": "stdout",
     "output_type": "stream",
     "text": [
      "before KO: -999999 < flux_PGI < 999999\n",
      "after KO:    0 < flux_PGI <    0\n"
     ]
    }
   ],
   "source": [
    "model_yeast=cobra.io.read_sbml_model(\"iMM904.xml.gz\")\n",
    "pgi=model_yeast.reactions.get_by_id(\"PGI\")\n",
    "print(\"before KO: %4d < flux_PGI < %4d\" % (pgi.lower_bound, pgi.upper_bound))\n",
    "\n",
    "\n",
    "gene=model_yeast.genes.get_by_id(\"YBR196C\")\n",
    "gene.knock_out()\n",
    "print(\"after KO: %4d < flux_PGI < %4d\" % (pgi.lower_bound, pgi.upper_bound))\n"
   ]
  },
  {
   "cell_type": "markdown",
   "metadata": {},
   "source": [
    "One may often want to make small changes to a model and evaluate their impacts. For example, we may want to knock-out all reactions sequentially, and see what the impact of this is on the objective function. One way of doing this would be to create a new copy of the model before each knock-out with the `model.copy()` function. However, even with small models, this is a very slow approach as models are quite complex objects. Instead, it is better to carry out the knock-out, optimize (i.e. solve FBA problem), and then manually reset the reaction bounds before proceeding with the next reaction. Since this is such a common scenario, `cobrapy` allows us to use the model as a context, to have changes reverted automatically.\n",
    "\n",
    "Here we knock out the first N reactions and check for new growth rate values:"
   ]
  },
  {
   "cell_type": "code",
   "execution_count": 23,
   "metadata": {
    "scrolled": true
   },
   "outputs": [
    {
     "name": "stdout",
     "output_type": "stream",
     "text": [
      "Pre reaction knockout growth rate:  0.28786570370401793\n",
      "CITtcp blocked (bounds: (0, 0)), new growth rate 0.287866\n",
      "13BGH blocked (bounds: (0, 0)), new growth rate 0.287866\n",
      "13BGHe blocked (bounds: (0, 0)), new growth rate 0.287866\n",
      "13GS blocked (bounds: (0, 0)), new growth rate 0.000000\n",
      "16GS blocked (bounds: (0, 0)), new growth rate 0.287866\n",
      "23CAPPD blocked (bounds: (0, 0)), new growth rate 0.287866\n",
      "2DDA7Ptm blocked (bounds: (0, 0)), new growth rate 0.287866\n",
      "2DHPtm blocked (bounds: (0, 0)), new growth rate 0.287866\n",
      "2DOXG6PP blocked (bounds: (0, 0)), new growth rate 0.287866\n",
      "2HBO blocked (bounds: (0, 0)), new growth rate 0.287866\n",
      "2HBt2 blocked (bounds: (0, 0)), new growth rate 0.287866\n",
      "2HMHMBQMTm blocked (bounds: (0, 0)), new growth rate 0.287866\n",
      "2HP6MPMOm blocked (bounds: (0, 0)), new growth rate 0.287866\n",
      "2HPMBQMTm blocked (bounds: (0, 0)), new growth rate 0.287866\n",
      "2HPMMBQMOm blocked (bounds: (0, 0)), new growth rate 0.287866\n",
      "2MBACt blocked (bounds: (0, 0)), new growth rate 0.287866\n",
      "EX_epistest_SC_e blocked (bounds: (0, 0)), new growth rate 0.287866\n",
      "EX_epist_e blocked (bounds: (0, 0)), new growth rate 0.287866\n",
      "2MBALDt blocked (bounds: (0, 0)), new growth rate 0.287866\n",
      "2MBALDtm blocked (bounds: (0, 0)), new growth rate 0.287866\n"
     ]
    }
   ],
   "source": [
    "# Import the model again to reverse the previous edits\n",
    "model_yeast=cobra.io.read_sbml_model(\"iMM904.xml.gz\")\n",
    "\n",
    "# Show FBA solution growth rate prior to reaction knockouts\n",
    "model_yeast.optimize()\n",
    "print(\"Pre reaction knockout growth rate: \",model_yeast.objective.value)\n",
    "\n",
    "# Define first N number of reactions to knock out\n",
    "N=20\n",
    "\n",
    "# Simulate knockouts of N single reactions \n",
    "for reaction in model_yeast.reactions[:N]:\n",
    "    with model_yeast as model_yeast:  # Prevent editing of the original model\n",
    "        reaction.knock_out()\n",
    "        model_yeast.optimize()\n",
    "        print('%s blocked (bounds: %s), new growth rate %f' %\n",
    "              (reaction.id, str(reaction.bounds), model_yeast.objective.value))"
   ]
  },
  {
   "cell_type": "markdown",
   "metadata": {},
   "source": [
    "Next we will knock out genes instead of reactions."
   ]
  },
  {
   "cell_type": "code",
   "execution_count": 24,
   "metadata": {},
   "outputs": [
    {
     "name": "stdout",
     "output_type": "stream",
     "text": [
      "Pre gene knockout growth rate:  0.28786570370401793\n",
      "YHR104W, new growth rate 0.287866\n",
      "YDR368W, new growth rate 0.287866\n",
      "YGR282C, new growth rate 0.287866\n",
      "YOL086C, new growth rate 0.287866\n",
      "YLR300W, new growth rate 0.287866\n",
      "YFR055W, new growth rate 0.287866\n",
      "YGL184C, new growth rate 0.287866\n",
      "YDR261C, new growth rate 0.287866\n",
      "YDL168W, new growth rate 0.287866\n",
      "YOR190W, new growth rate 0.287866\n",
      "YOL030W, new growth rate 0.287866\n",
      "YLR343W, new growth rate 0.287866\n",
      "YNL247W, new growth rate 0.287866\n",
      "YMR303C, new growth rate 0.287866\n",
      "YGR155W, new growth rate 0.287843\n",
      "YGR032W, new growth rate 0.287866\n",
      "YOL132W, new growth rate 0.287866\n",
      "YGL256W, new growth rate 0.287866\n",
      "YBR145W, new growth rate 0.287866\n",
      "YCR034W, new growth rate -0.000000\n"
     ]
    }
   ],
   "source": [
    "# Import the model again to reverse the previous edits\n",
    "model_yeast=cobra.io.read_sbml_model(\"iMM904.xml.gz\")\n",
    "\n",
    "# Show FBA solution growth rate prior to gene knockouts\n",
    "model_yeast.optimize()\n",
    "print(\"Pre gene knockout growth rate: \",model_yeast.objective.value)\n",
    "\n",
    "# Define first N number of genes to knock out\n",
    "N=20\n",
    "\n",
    "# Simulate knockouts of N genes and print values\n",
    "for gene in model_yeast.genes[:N]:\n",
    "    with model_yeast as model_yeast:  # Prevent editing the original model\n",
    "        gene.knock_out()\n",
    "        model_yeast.optimize()\n",
    "        print('%s, new growth rate %f' %\n",
    "              (gene.id, model_yeast.objective.value))\n",
    "        \n",
    "\n",
    "# Simulate gene knockouts for all genes, this time we are storing the results in a vector for plotting\n",
    "genes_ids=[gene.id for gene in model_yeast.genes]\n",
    "grow_rates=[]\n",
    "for gene in model_yeast.genes:\n",
    "    with model_yeast as model_yeast:  # Prevent editing the original model\n",
    "        gene.knock_out()\n",
    "        model_yeast.optimize()\n",
    "        grow_rates.append(model_yeast.objective.value)"
   ]
  },
  {
   "cell_type": "markdown",
   "metadata": {},
   "source": [
    "Let's see the distribution of our results creating a plot with the vectors obtained above:"
   ]
  },
  {
   "cell_type": "code",
   "execution_count": 25,
   "metadata": {},
   "outputs": [
    {
     "data": {
      "image/png": "[encoded data removed]",
      "text/plain": [
       "<Figure size 432x288 with 1 Axes>"
      ]
     },
     "metadata": {
      "needs_background": "light"
     },
     "output_type": "display_data"
    }
   ],
   "source": [
    "import matplotlib.pyplot as plt\n",
    "import numpy as np\n",
    "\n",
    "x = np.array(genes_ids)\n",
    "y = np.array(grow_rates)\n",
    "\n",
    "plt.hist(y)\n",
    "plt.xlabel('Growth rates')\n",
    "plt.ylabel('Number of genes')\n",
    "#plt.show()\n",
    "plt.savefig(\"distribution.png\", dpi=100, bbox_inches='tight',pad_inches=0)"
   ]
  },
  {
   "cell_type": "markdown",
   "metadata": {},
   "source": [
    "### Questions"
   ]
  },
  {
   "cell_type": "markdown",
   "metadata": {},
   "source": [
    "1. Why does the distribution of predicted growth rates appear to be bimodal? \n",
    "2. Can you verify the consistency between gene and reactions knockouts results using a gene or a reaction of your choice?\n",
    "3. Can you verify the essentiality of your gene of choice from the previous excercise using relevant databases (e.g. KEGG and the SGD)?\n",
    "4. Do you expect these results to change if we change the medium where we are growing our yeast model? "
   ]
  },
  {
   "cell_type": "markdown",
   "metadata": {},
   "source": [
    "### Solution to question 2"
   ]
  },
  {
   "cell_type": "code",
   "execution_count": 26,
   "metadata": {},
   "outputs": [],
   "source": [
    "#type your code here, results in the html"
   ]
  },
  {
   "cell_type": "code",
   "execution_count": 27,
   "metadata": {},
   "outputs": [],
   "source": [
    "#type your code here, results in the html"
   ]
  },
  {
   "cell_type": "markdown",
   "metadata": {},
   "source": [
    "### Solution to question 3\n",
    "When we look for YJL167W in the Saccharomyces genome database --> <a href=\"https://www.yeastgenome.org/locus/S000003703\"> HERE </a>, we find out that YJL167W is an essential gene"
   ]
  },
  {
   "cell_type": "markdown",
   "metadata": {},
   "source": [
    "### Solution to question 4\n",
    "Yes, we will look into this phenomenon in the next notebook."
   ]
  }
 ],
 "metadata": {
  "kernelspec": {
   "display_name": "Python 3",
   "language": "python",
   "name": "python3"
  },
  "language_info": {
   "codemirror_mode": {
    "name": "ipython",
    "version": 3
   },
   "file_extension": ".py",
   "mimetype": "text/x-python",
   "name": "python",
   "nbconvert_exporter": "python",
   "pygments_lexer": "ipython3",
   "version": "3.8.8"
  }
 },
 "nbformat": 4,
 "nbformat_minor": 4
}
