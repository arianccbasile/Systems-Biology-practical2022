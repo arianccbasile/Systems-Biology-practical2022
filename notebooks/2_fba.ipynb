{
 "cells": [
  {
   "cell_type": "markdown",
   "id": "c2d69c42",
   "metadata": {},
   "source": [
    "# 2. Playing around"
   ]
  },
  {
   "cell_type": "markdown",
   "id": "0130a9a1",
   "metadata": {},
   "source": [
    "Author: Arianna Basile, MRC Toxicology Unit, University of Cambridge"
   ]
  },
  {
   "cell_type": "markdown",
   "id": "ca772315",
   "metadata": {},
   "source": [
    "__________________________________________________________________________________________________________________\n",
    "In this tutorial:\n",
    "<ul>\n",
    "    <li>You will change the growth medium of your reconstruction (2.1) </li>\n",
    "    <li>Perform gene essentiality analysis on different conditions (2.2)</li>\n",
    "    <li>Learn how to change the objective function and simulate the Warburg effect on yeast (2.3) </li>\n",
    "</ul>\n"
   ]
  },
  {
   "cell_type": "code",
   "execution_count": 4,
   "id": "1649f9a9",
   "metadata": {
    "collapsed": true
   },
   "outputs": [],
   "source": [
    "#import the needed packages\n",
    "import cobra\n",
    "\n",
    "#enable autocompleting with tab\n",
    "%config Completer.use_jedi = False\n"
   ]
  },
  {
   "cell_type": "code",
   "execution_count": 79,
   "id": "21ae468d",
   "metadata": {
    "collapsed": true
   },
   "outputs": [],
   "source": [
    "model_yeast=cobra.io.read_sbml_model(\"iMM904.xml.gz\")"
   ]
  },
  {
   "cell_type": "markdown",
   "id": "edda7e4f",
   "metadata": {},
   "source": [
    "## 2.1 Growth media"
   ]
  },
  {
   "cell_type": "markdown",
   "id": "9f22e795",
   "metadata": {},
   "source": [
    "The availability of nutrients has a major impact on metabolic fluxes and cobrapy provides some helpers to manage the exchanges between the external environment and your metabolic model. In experimental settings the “environment” is usually constituted by the growth medium, ergo the concentrations of all metabolites and co-factors available to the modeled organism. However, constraint-based metabolic models only consider fluxes. Thus, you can not simply use concentrations since fluxes have the unit mmol / [gDW h] (concentration per gram dry weight of cells and hour).\n",
    "\n",
    "Also, you are setting an upper bound for the particular import flux and not the flux itself. There are some crude approximations. For instance, if you supply 1 mol of glucose every 24h to 1 gram of bacteria you might set the upper exchange flux for glucose to 1 mol / [1 gDW * 24 h] since that is the nominal maximum that can be imported. There is no guarantee however that glucose will be consumed with that flux. Thus, the preferred data for exchange fluxes are direct flux measurements as the ones obtained from timecourse exa-metabolome measurements for instance.\n",
    "\n",
    "So how does that look in COBRApy? The current growth medium of a model is managed by the medium attribute."
   ]
  },
  {
   "cell_type": "code",
   "execution_count": 8,
   "id": "618d6e25",
   "metadata": {},
   "outputs": [
    {
     "data": {
      "text/plain": [
       "{'EX_fe2_e': 999999.0,\n",
       " 'EX_glc__D_e': 10.0,\n",
       " 'EX_h2o_e': 999999.0,\n",
       " 'EX_h_e': 999999.0,\n",
       " 'EX_k_e': 999999.0,\n",
       " 'EX_na1_e': 999999.0,\n",
       " 'EX_so4_e': 999999.0,\n",
       " 'EX_nh4_e': 999999.0,\n",
       " 'EX_o2_e': 2.0,\n",
       " 'EX_pi_e': 999999.0}"
      ]
     },
     "execution_count": 8,
     "metadata": {},
     "output_type": "execute_result"
    }
   ],
   "source": [
    "medium=model_yeast.medium\n",
    "medium"
   ]
  },
  {
   "cell_type": "markdown",
   "id": "fd322988",
   "metadata": {},
   "source": [
    "This will return a dictionary that contains the upper flux bounds for all active exchange fluxes (the ones having non-zero flux bounds). Right now we see that we have enabled aerobic growth. \n",
    "Let's optimize to check the growth in the given medium."
   ]
  },
  {
   "cell_type": "code",
   "execution_count": 23,
   "id": "f7e6bf8b",
   "metadata": {},
   "outputs": [
    {
     "data": {
      "text/html": [
       "<strong><em>Optimal</em> solution with objective value 0.288</strong><br><div>\n",
       "<style scoped>\n",
       "    .dataframe tbody tr th:only-of-type {\n",
       "        vertical-align: middle;\n",
       "    }\n",
       "\n",
       "    .dataframe tbody tr th {\n",
       "        vertical-align: top;\n",
       "    }\n",
       "\n",
       "    .dataframe thead th {\n",
       "        text-align: right;\n",
       "    }\n",
       "</style>\n",
       "<table border=\"1\" class=\"dataframe\">\n",
       "  <thead>\n",
       "    <tr style=\"text-align: right;\">\n",
       "      <th></th>\n",
       "      <th>fluxes</th>\n",
       "      <th>reduced_costs</th>\n",
       "    </tr>\n",
       "  </thead>\n",
       "  <tbody>\n",
       "    <tr>\n",
       "      <th>CITtcp</th>\n",
       "      <td>0.000000</td>\n",
       "      <td>0.000000e+00</td>\n",
       "    </tr>\n",
       "    <tr>\n",
       "      <th>13BGH</th>\n",
       "      <td>0.000000</td>\n",
       "      <td>-4.751566e-02</td>\n",
       "    </tr>\n",
       "    <tr>\n",
       "      <th>13BGHe</th>\n",
       "      <td>0.000000</td>\n",
       "      <td>0.000000e+00</td>\n",
       "    </tr>\n",
       "    <tr>\n",
       "      <th>13GS</th>\n",
       "      <td>0.326670</td>\n",
       "      <td>0.000000e+00</td>\n",
       "    </tr>\n",
       "    <tr>\n",
       "      <th>16GS</th>\n",
       "      <td>0.000000</td>\n",
       "      <td>0.000000e+00</td>\n",
       "    </tr>\n",
       "    <tr>\n",
       "      <th>...</th>\n",
       "      <td>...</td>\n",
       "      <td>...</td>\n",
       "    </tr>\n",
       "    <tr>\n",
       "      <th>PYDXO</th>\n",
       "      <td>0.000000</td>\n",
       "      <td>0.000000e+00</td>\n",
       "    </tr>\n",
       "    <tr>\n",
       "      <th>PYK</th>\n",
       "      <td>17.721990</td>\n",
       "      <td>1.040834e-17</td>\n",
       "    </tr>\n",
       "    <tr>\n",
       "      <th>PYNP2r</th>\n",
       "      <td>0.000000</td>\n",
       "      <td>1.387779e-17</td>\n",
       "    </tr>\n",
       "    <tr>\n",
       "      <th>PYR5CDm</th>\n",
       "      <td>0.000000</td>\n",
       "      <td>0.000000e+00</td>\n",
       "    </tr>\n",
       "    <tr>\n",
       "      <th>PYRDC</th>\n",
       "      <td>15.946051</td>\n",
       "      <td>0.000000e+00</td>\n",
       "    </tr>\n",
       "  </tbody>\n",
       "</table>\n",
       "<p>1577 rows × 2 columns</p>\n",
       "</div>"
      ],
      "text/plain": [
       "<Solution 0.288 at 0x7fc8a2a073a0>"
      ]
     },
     "execution_count": 23,
     "metadata": {},
     "output_type": "execute_result"
    }
   ],
   "source": [
    "model_yeast.optimize()"
   ]
  },
  {
   "cell_type": "markdown",
   "id": "c9eaa24d",
   "metadata": {},
   "source": [
    "You can modify a growth medium of a model by assigning a dictionary to model.medium that maps exchange reactions to their respective upper import bounds. For now let us enforce anaerobic growth by reducing the oxygen import."
   ]
  },
  {
   "cell_type": "code",
   "execution_count": 77,
   "id": "5717c8b4",
   "metadata": {},
   "outputs": [
    {
     "data": {
      "text/plain": [
       "{'EX_fe2_e': 999999.0,\n",
       " 'EX_glc__D_e': 10.0,\n",
       " 'EX_h2o_e': 999999.0,\n",
       " 'EX_h_e': 999999.0,\n",
       " 'EX_k_e': 999999.0,\n",
       " 'EX_na1_e': 999999.0,\n",
       " 'EX_so4_e': 999999.0,\n",
       " 'EX_nh4_e': 999999.0,\n",
       " 'EX_o2_e': 1e-05,\n",
       " 'EX_pi_e': 999999.0}"
      ]
     },
     "execution_count": 77,
     "metadata": {},
     "output_type": "execute_result"
    }
   ],
   "source": [
    "model_yeastv2=model_yeast.copy() #we are making a copy of the original model and editing the copy\n",
    "medium = model_yeastv2.medium\n",
    "medium[\"EX_o2_e\"] = 0.00001\n",
    "model_yeastv2.medium = medium\n",
    "\n",
    "model_yeastv2.medium"
   ]
  },
  {
   "cell_type": "markdown",
   "id": "b015f247",
   "metadata": {},
   "source": [
    "As we can see, the presence of oxygen in our medium has been strongly reduced. Let's check how it influences the growth rate."
   ]
  },
  {
   "cell_type": "code",
   "execution_count": 78,
   "id": "e2139003",
   "metadata": {},
   "outputs": [
    {
     "data": {
      "text/plain": [
       "0.00017940437746681012"
      ]
     },
     "execution_count": 78,
     "metadata": {},
     "output_type": "execute_result"
    }
   ],
   "source": [
    "model_yeastv2.optimize()\n",
    "\n",
    "model_yeastv2.objective.value"
   ]
  },
  {
   "cell_type": "markdown",
   "id": "af9fb8c8",
   "metadata": {},
   "source": [
    "The growth rate is reduced\n"
   ]
  },
  {
   "cell_type": "markdown",
   "id": "c6438427",
   "metadata": {},
   "source": [
    "Summing up, we have the same metabolic reconstruction (iMM904) in two different conditions determining two different metabolic models (model_yeast and model_yeastv2)."
   ]
  },
  {
   "cell_type": "markdown",
   "id": "c11e1bd9",
   "metadata": {},
   "source": [
    "## 2.2 Gene essentiality"
   ]
  },
  {
   "cell_type": "markdown",
   "id": "1fde259b",
   "metadata": {},
   "source": [
    "A gene is considered essential if restricting the flux of all reactions that depend on it to zero causes the objective, e.g., the growth rate, to also be zero, below the threshold, or infeasible.\n",
    "\n",
    "Now we will use the function find_essential_genes to find essential genes in both conditions, extract the IDs of the genes, and compare the two lists. Can you do it by yourself? "
   ]
  },
  {
   "cell_type": "code",
   "execution_count": 65,
   "id": "abd482c1",
   "metadata": {
    "collapsed": true
   },
   "outputs": [],
   "source": [
    "ess_genesv2=cobra.flux_analysis.variability.find_essential_genes(model_yeastv2)\n",
    "id_ess_genesv2=[]\n",
    "for gene in ess_genesv2:\n",
    "    id_ess_genesv2.append(gene.id)"
   ]
  },
  {
   "cell_type": "code",
   "execution_count": 54,
   "id": "ba8ddab4",
   "metadata": {
    "collapsed": true,
    "tags": [
     "hide_code"
    ]
   },
   "outputs": [],
   "source": [
    "ess_genes=cobra.flux_analysis.variability.find_essential_genes(model_yeast)\n",
    "id_ess_genes=[]\n",
    "for gene in ess_genes:\n",
    "    id_ess_genes.append(gene.id)"
   ]
  },
  {
   "cell_type": "code",
   "execution_count": 66,
   "id": "f4a259d3",
   "metadata": {},
   "outputs": [
    {
     "name": "stdout",
     "output_type": "stream",
     "text": [
      "91\n",
      "110\n"
     ]
    }
   ],
   "source": [
    "print(len(id_ess_genesv2))\n",
    "print(len(id_ess_genes))\n"
   ]
  },
  {
   "cell_type": "code",
   "execution_count": 80,
   "id": "2a2ce91e",
   "metadata": {
    "scrolled": true,
    "tags": [
     "hide_code"
    ]
   },
   "outputs": [
    {
     "data": {
      "text/plain": [
       "90"
      ]
     },
     "execution_count": 80,
     "metadata": {},
     "output_type": "execute_result"
    }
   ],
   "source": [
    "a=list(set(id_ess_genesv2) & set(id_ess_genes))\n",
    "len(a)"
   ]
  },
  {
   "cell_type": "code",
   "execution_count": 68,
   "id": "dceb28b2",
   "metadata": {
    "tags": [
     "hide_code"
    ]
   },
   "outputs": [
    {
     "data": {
      "text/plain": [
       "['YCR012W']"
      ]
     },
     "execution_count": 68,
     "metadata": {},
     "output_type": "execute_result"
    }
   ],
   "source": [
    "list(set(id_ess_genesv2) - set(id_ess_genes))"
   ]
  },
  {
   "cell_type": "code",
   "execution_count": 69,
   "id": "becfe6d9",
   "metadata": {
    "scrolled": true,
    "tags": [
     "hide_code"
    ]
   },
   "outputs": [
    {
     "data": {
      "text/plain": [
       "['YDR487C',\n",
       " 'YBR256C',\n",
       " 'YJR073C',\n",
       " 'YLR100W',\n",
       " 'YGL001C',\n",
       " 'YJL153C',\n",
       " 'YHR046C',\n",
       " 'YGR175C',\n",
       " 'YOL143C',\n",
       " 'YGL012W',\n",
       " 'YBL033C',\n",
       " 'YBR153W',\n",
       " 'YOL066C',\n",
       " 'YHR007C',\n",
       " 'YHR072W',\n",
       " 'YGR060W',\n",
       " 'YHR042W',\n",
       " 'YER043C',\n",
       " 'YHR190W',\n",
       " 'YNL280C']"
      ]
     },
     "execution_count": 69,
     "metadata": {},
     "output_type": "execute_result"
    }
   ],
   "source": [
    "list(set(id_ess_genes) - set(id_ess_genesv2))"
   ]
  },
  {
   "cell_type": "markdown",
   "id": "e12d89bd",
   "metadata": {},
   "source": [
    "### Exercises"
   ]
  },
  {
   "cell_type": "markdown",
   "id": "3ce3e42e",
   "metadata": {},
   "source": [
    "1) Perform the same analysis but using the function find_essential_reactions (cobra.flux_analysis.variability.find_essential_reactions).\n",
    "\n",
    "2) Which are the functions of the reactions detected as essential in the model with oxygen? Inspect them with the commands seen in the first notebook\n",
    "\n",
    "3) Which are the functions of the reactions detected as essential in the model without oxygen? Inspect them with the commands seen in the first notebook"
   ]
  },
  {
   "cell_type": "markdown",
   "id": "66e6bf60",
   "metadata": {},
   "source": [
    "### solution exercise 1"
   ]
  },
  {
   "cell_type": "code",
   "execution_count": 86,
   "id": "3f97ecce",
   "metadata": {},
   "outputs": [],
   "source": [
    "#write your code here...\n"
   ]
  },
  {
   "cell_type": "code",
   "execution_count": 83,
   "id": "ff0a879c",
   "metadata": {
    "scrolled": true,
    "tags": [
     "hide_code"
    ]
   },
   "outputs": [
    {
     "name": "stdout",
     "output_type": "stream",
     "text": [
      "144\n",
      "168\n"
     ]
    },
    {
     "data": {
      "text/plain": [
       "['SQLS',\n",
       " 'LNSTLS',\n",
       " 'AHCi',\n",
       " 'DRTPPD',\n",
       " 'RBFSa',\n",
       " 'ERGSTter',\n",
       " 'G6PDH2er',\n",
       " 'SQLEr',\n",
       " 'GTPCII',\n",
       " 'C3STDH2',\n",
       " 'SQ23EPXter',\n",
       " 'C3STKR2',\n",
       " 'DB4PS',\n",
       " 'C14STR',\n",
       " 'C24STRer',\n",
       " 'DADK',\n",
       " 'C4STMO1',\n",
       " 'PMETM_SC',\n",
       " 'SQLter',\n",
       " 'METAT',\n",
       " 'C3STKR1',\n",
       " 'DROPPRy',\n",
       " 'G6Pter',\n",
       " 'C4STMO2',\n",
       " 'RBFSb',\n",
       " 'MFAPS_SC',\n",
       " 'DESAT18_2',\n",
       " 'C3STDH1',\n",
       " 'ERGTETROLter']"
      ]
     },
     "execution_count": 83,
     "metadata": {},
     "output_type": "execute_result"
    }
   ],
   "source": [
    "ess_reacv2=cobra.flux_analysis.variability.find_essential_reactions(model_yeastv2)\n",
    "id_ess_reacv2=[]\n",
    "for reaction in ess_reacv2:\n",
    "    id_ess_reacv2.append(reaction.id)\n",
    "ess_reac=cobra.flux_analysis.variability.find_essential_reactions(model_yeast)\n",
    "id_ess_reac=[]\n",
    "for reaction in ess_reac:\n",
    "    id_ess_reac.append(reaction.id)\n",
    "print(len(id_ess_reacv2))\n",
    "print(len(id_ess_reac))\n",
    "\n",
    "a=list(set(id_ess_reacv2) & set(id_ess_reac))\n",
    "len(a)\n"
   ]
  },
  {
   "cell_type": "code",
   "execution_count": 84,
   "id": "22bb430b",
   "metadata": {
    "tags": [
     "hide_code"
    ]
   },
   "outputs": [
    {
     "data": {
      "text/plain": [
       "['GAPD', 'PGM', 'PGK', 'ENO', 'PYK']"
      ]
     },
     "execution_count": 84,
     "metadata": {},
     "output_type": "execute_result"
    }
   ],
   "source": [
    "list(set(id_ess_reacv2) - set(id_ess_reac))\n"
   ]
  },
  {
   "cell_type": "code",
   "execution_count": 85,
   "id": "6241749c",
   "metadata": {
    "scrolled": false,
    "tags": [
     "hide_code"
    ]
   },
   "outputs": [
    {
     "data": {
      "text/plain": [
       "['SQLS',\n",
       " 'LNSTLS',\n",
       " 'AHCi',\n",
       " 'DRTPPD',\n",
       " 'RBFSa',\n",
       " 'ERGSTter',\n",
       " 'G6PDH2er',\n",
       " 'SQLEr',\n",
       " 'GTPCII',\n",
       " 'C3STDH2',\n",
       " 'SQ23EPXter',\n",
       " 'C3STKR2',\n",
       " 'DB4PS',\n",
       " 'C14STR',\n",
       " 'C24STRer',\n",
       " 'DADK',\n",
       " 'C4STMO1',\n",
       " 'PMETM_SC',\n",
       " 'SQLter',\n",
       " 'METAT',\n",
       " 'C3STKR1',\n",
       " 'DROPPRy',\n",
       " 'G6Pter',\n",
       " 'C4STMO2',\n",
       " 'RBFSb',\n",
       " 'MFAPS_SC',\n",
       " 'DESAT18_2',\n",
       " 'C3STDH1',\n",
       " 'ERGTETROLter']"
      ]
     },
     "execution_count": 85,
     "metadata": {},
     "output_type": "execute_result"
    }
   ],
   "source": [
    "list(set(id_ess_reac) - set(id_ess_reacv2))"
   ]
  },
  {
   "cell_type": "markdown",
   "id": "8919cb89",
   "metadata": {},
   "source": [
    "### solution exercises 2 and 3"
   ]
  },
  {
   "cell_type": "markdown",
   "id": "58f4634a",
   "metadata": {},
   "source": [
    "Use the function model.reactions.get_by_id"
   ]
  },
  {
   "cell_type": "markdown",
   "id": "fc7cdf74",
   "metadata": {},
   "source": [
    "## 2.3 Simulate the Warburg effect - Changing the objective function \n"
   ]
  },
  {
   "cell_type": "markdown",
   "id": "29bb4696",
   "metadata": {},
   "source": [
    "Nearly a century ago, Otto Warburg discovered that tumors consume tremendous amounts of glucose relative to most non-transformed tissues, and that the majority of glucose consumed by tumors is fermented to lactate, rather than oxidized in pathways that require respiration. This phenotype is referred to as “aerobic glycolysis,” because unlike carbohydrate fermentation in response to oxygen limitation, aerobic glycolysis involves high levels of fermentation even when oxygen is abundant. Aerobic glycolysis a hallmark of proliferative metabolism found across many kingdoms of life, but is frequently associated with cancer cells, and is known as the Warburg effect in this context.\n",
    "\n",
    "We simulate the Warburg effect on yeast imposing no oxygen and high glucose intake"
   ]
  },
  {
   "cell_type": "code",
   "execution_count": 120,
   "id": "c832861c",
   "metadata": {},
   "outputs": [
    {
     "data": {
      "text/plain": [
       "{'EX_fe2_e': 999999.0,\n",
       " 'EX_glc__D_e': 1000.0,\n",
       " 'EX_h2o_e': 999999.0,\n",
       " 'EX_h_e': 999999.0,\n",
       " 'EX_k_e': 999999.0,\n",
       " 'EX_na1_e': 999999.0,\n",
       " 'EX_so4_e': 999999.0,\n",
       " 'EX_nh4_e': 999999.0,\n",
       " 'EX_pi_e': 999999.0}"
      ]
     },
     "execution_count": 120,
     "metadata": {},
     "output_type": "execute_result"
    }
   ],
   "source": [
    "model_yeastv3=model_yeast.copy() #we are making a copy of the original model and editing the copy\n",
    "medium = model_yeastv3.medium\n",
    "medium[\"EX_o2_e\"] = 0.0\n",
    "medium[\"EX_glc__D_e\"] = 1000.0\n",
    "model_yeastv3.medium = medium\n",
    "\n",
    "model_yeastv3.medium"
   ]
  },
  {
   "cell_type": "markdown",
   "id": "84cc4df0",
   "metadata": {},
   "source": [
    "Then we change the objective function to the production of lactate \"EX_lac__D_e\" and we optimize our model considering the goal of maximizing the lactate production"
   ]
  },
  {
   "cell_type": "code",
   "execution_count": 139,
   "id": "068dada7",
   "metadata": {},
   "outputs": [
    {
     "data": {
      "text/html": [
       "<h3>Objective</h3><p>1.0 EX_lac__D_e = 999.5</p><h4>Uptake</h4><table border=\"1\" class=\"dataframe\">\n",
       "  <thead>\n",
       "    <tr style=\"text-align: right;\">\n",
       "      <th>Metabolite</th>\n",
       "      <th>Reaction</th>\n",
       "      <th>Flux</th>\n",
       "      <th>C-Number</th>\n",
       "      <th>C-Flux</th>\n",
       "    </tr>\n",
       "  </thead>\n",
       "  <tbody>\n",
       "    <tr>\n",
       "      <td>glc__D_e</td>\n",
       "      <td>EX_glc__D_e</td>\n",
       "      <td>1000</td>\n",
       "      <td>6</td>\n",
       "      <td>100.00%</td>\n",
       "    </tr>\n",
       "  </tbody>\n",
       "</table><h4>Secretion</h4><table border=\"1\" class=\"dataframe\">\n",
       "  <thead>\n",
       "    <tr style=\"text-align: right;\">\n",
       "      <th>Metabolite</th>\n",
       "      <th>Reaction</th>\n",
       "      <th>Flux</th>\n",
       "      <th>C-Number</th>\n",
       "      <th>C-Flux</th>\n",
       "    </tr>\n",
       "  </thead>\n",
       "  <tbody>\n",
       "    <tr>\n",
       "      <td>co2_e</td>\n",
       "      <td>EX_co2_e</td>\n",
       "      <td>-1000</td>\n",
       "      <td>1</td>\n",
       "      <td>16.68%</td>\n",
       "    </tr>\n",
       "    <tr>\n",
       "      <td>etoh_e</td>\n",
       "      <td>EX_etoh_e</td>\n",
       "      <td>-1000</td>\n",
       "      <td>2</td>\n",
       "      <td>33.35%</td>\n",
       "    </tr>\n",
       "    <tr>\n",
       "      <td>h_e</td>\n",
       "      <td>EX_h_e</td>\n",
       "      <td>-999.5</td>\n",
       "      <td>0</td>\n",
       "      <td>0.00%</td>\n",
       "    </tr>\n",
       "    <tr>\n",
       "      <td>lac__D_e</td>\n",
       "      <td>EX_lac__D_e</td>\n",
       "      <td>-999.5</td>\n",
       "      <td>3</td>\n",
       "      <td>49.98%</td>\n",
       "    </tr>\n",
       "  </tbody>\n",
       "</table>"
      ],
      "text/plain": [
       "<cobra.summary.model_summary.ModelSummary at 0x7fc8a6a0a6a0>"
      ]
     },
     "execution_count": 139,
     "metadata": {},
     "output_type": "execute_result"
    }
   ],
   "source": [
    "model_yeastv3.objective = \"EX_lac__D_e\"\n",
    "model_yeastv3.optimize().objective_value\n",
    "model_yeastv3.summary()"
   ]
  },
  {
   "cell_type": "markdown",
   "id": "453987bf",
   "metadata": {},
   "source": [
    "Let's do the same exercise with the previously constrained models namely model_yeast and model_yeastv2"
   ]
  },
  {
   "cell_type": "code",
   "execution_count": 143,
   "id": "6ed53654",
   "metadata": {},
   "outputs": [
    {
     "data": {
      "text/html": [
       "<h3>Objective</h3><p>1.0 EX_lac__D_e = 12.000000000000002</p><h4>Uptake</h4><table border=\"1\" class=\"dataframe\">\n",
       "  <thead>\n",
       "    <tr style=\"text-align: right;\">\n",
       "      <th>Metabolite</th>\n",
       "      <th>Reaction</th>\n",
       "      <th>Flux</th>\n",
       "      <th>C-Number</th>\n",
       "      <th>C-Flux</th>\n",
       "    </tr>\n",
       "  </thead>\n",
       "  <tbody>\n",
       "    <tr>\n",
       "      <td>glc__D_e</td>\n",
       "      <td>EX_glc__D_e</td>\n",
       "      <td>10</td>\n",
       "      <td>6</td>\n",
       "      <td>100.00%</td>\n",
       "    </tr>\n",
       "    <tr>\n",
       "      <td>o2_e</td>\n",
       "      <td>EX_o2_e</td>\n",
       "      <td>2</td>\n",
       "      <td>0</td>\n",
       "      <td>0.00%</td>\n",
       "    </tr>\n",
       "  </tbody>\n",
       "</table><h4>Secretion</h4><table border=\"1\" class=\"dataframe\">\n",
       "  <thead>\n",
       "    <tr style=\"text-align: right;\">\n",
       "      <th>Metabolite</th>\n",
       "      <th>Reaction</th>\n",
       "      <th>Flux</th>\n",
       "      <th>C-Number</th>\n",
       "      <th>C-Flux</th>\n",
       "    </tr>\n",
       "  </thead>\n",
       "  <tbody>\n",
       "    <tr>\n",
       "      <td>co2_e</td>\n",
       "      <td>EX_co2_e</td>\n",
       "      <td>-9.333</td>\n",
       "      <td>1</td>\n",
       "      <td>15.56%</td>\n",
       "    </tr>\n",
       "    <tr>\n",
       "      <td>etoh_e</td>\n",
       "      <td>EX_etoh_e</td>\n",
       "      <td>-7.333</td>\n",
       "      <td>2</td>\n",
       "      <td>24.44%</td>\n",
       "    </tr>\n",
       "    <tr>\n",
       "      <td>h2o_e</td>\n",
       "      <td>EX_h2o_e</td>\n",
       "      <td>-2</td>\n",
       "      <td>0</td>\n",
       "      <td>0.00%</td>\n",
       "    </tr>\n",
       "    <tr>\n",
       "      <td>h_e</td>\n",
       "      <td>EX_h_e</td>\n",
       "      <td>-12</td>\n",
       "      <td>0</td>\n",
       "      <td>0.00%</td>\n",
       "    </tr>\n",
       "    <tr>\n",
       "      <td>lac__D_e</td>\n",
       "      <td>EX_lac__D_e</td>\n",
       "      <td>-12</td>\n",
       "      <td>3</td>\n",
       "      <td>60.00%</td>\n",
       "    </tr>\n",
       "  </tbody>\n",
       "</table>"
      ],
      "text/plain": [
       "<cobra.summary.model_summary.ModelSummary at 0x7fc8b194c2b0>"
      ]
     },
     "execution_count": 143,
     "metadata": {},
     "output_type": "execute_result"
    }
   ],
   "source": [
    "model_yeast.objective = \"EX_lac__D_e\"\n",
    "model_yeast.optimize().objective_value\n",
    "model_yeast.summary()"
   ]
  },
  {
   "cell_type": "code",
   "execution_count": 145,
   "id": "e24e592c",
   "metadata": {},
   "outputs": [
    {
     "data": {
      "text/html": [
       "<h3>Objective</h3><p>1.0 EX_lac__D_e = 9.5000125</p><h4>Uptake</h4><table border=\"1\" class=\"dataframe\">\n",
       "  <thead>\n",
       "    <tr style=\"text-align: right;\">\n",
       "      <th>Metabolite</th>\n",
       "      <th>Reaction</th>\n",
       "      <th>Flux</th>\n",
       "      <th>C-Number</th>\n",
       "      <th>C-Flux</th>\n",
       "    </tr>\n",
       "  </thead>\n",
       "  <tbody>\n",
       "    <tr>\n",
       "      <td>glc__D_e</td>\n",
       "      <td>EX_glc__D_e</td>\n",
       "      <td>10</td>\n",
       "      <td>6</td>\n",
       "      <td>100.00%</td>\n",
       "    </tr>\n",
       "    <tr>\n",
       "      <td>o2_e</td>\n",
       "      <td>EX_o2_e</td>\n",
       "      <td>1E-05</td>\n",
       "      <td>0</td>\n",
       "      <td>0.00%</td>\n",
       "    </tr>\n",
       "  </tbody>\n",
       "</table><h4>Secretion</h4><table border=\"1\" class=\"dataframe\">\n",
       "  <thead>\n",
       "    <tr style=\"text-align: right;\">\n",
       "      <th>Metabolite</th>\n",
       "      <th>Reaction</th>\n",
       "      <th>Flux</th>\n",
       "      <th>C-Number</th>\n",
       "      <th>C-Flux</th>\n",
       "    </tr>\n",
       "  </thead>\n",
       "  <tbody>\n",
       "    <tr>\n",
       "      <td>co2_e</td>\n",
       "      <td>EX_co2_e</td>\n",
       "      <td>-10.5</td>\n",
       "      <td>1</td>\n",
       "      <td>17.50%</td>\n",
       "    </tr>\n",
       "    <tr>\n",
       "      <td>etoh_e</td>\n",
       "      <td>EX_etoh_e</td>\n",
       "      <td>-10.5</td>\n",
       "      <td>2</td>\n",
       "      <td>35.00%</td>\n",
       "    </tr>\n",
       "    <tr>\n",
       "      <td>h2o_e</td>\n",
       "      <td>EX_h2o_e</td>\n",
       "      <td>-1E-05</td>\n",
       "      <td>0</td>\n",
       "      <td>0.00%</td>\n",
       "    </tr>\n",
       "    <tr>\n",
       "      <td>h_e</td>\n",
       "      <td>EX_h_e</td>\n",
       "      <td>-9.5</td>\n",
       "      <td>0</td>\n",
       "      <td>0.00%</td>\n",
       "    </tr>\n",
       "    <tr>\n",
       "      <td>lac__D_e</td>\n",
       "      <td>EX_lac__D_e</td>\n",
       "      <td>-9.5</td>\n",
       "      <td>3</td>\n",
       "      <td>47.50%</td>\n",
       "    </tr>\n",
       "  </tbody>\n",
       "</table>"
      ],
      "text/plain": [
       "<cobra.summary.model_summary.ModelSummary at 0x7fc8511dd7c0>"
      ]
     },
     "execution_count": 145,
     "metadata": {},
     "output_type": "execute_result"
    }
   ],
   "source": [
    "model_yeastv2.objective = \"EX_lac__D_e\"\n",
    "model_yeastv2.optimize().objective_value\n",
    "model_yeastv2.summary()"
   ]
  },
  {
   "cell_type": "markdown",
   "id": "72ecc48c",
   "metadata": {},
   "source": [
    "In both model_yeast and model_yeastv2 the production of lactate is lower than in model_yeastv3, but we can go further and inspect the relationship between glucose availability and the production of lactate in anaerobic conditions (without oxygen). "
   ]
  },
  {
   "cell_type": "code",
   "execution_count": 151,
   "id": "3c25ede1",
   "metadata": {},
   "outputs": [
    {
     "name": "stderr",
     "output_type": "stream",
     "text": [
      "/Users/arianna/miniconda3/envs/carveme2/lib/python3.8/site-packages/cobra/util/solver.py:554: UserWarning: Solver status is 'infeasible'.\n",
      "  warn(f\"Solver status is '{status}'.\", UserWarning)\n",
      "/Users/arianna/miniconda3/envs/carveme2/lib/python3.8/site-packages/cobra/util/solver.py:554: UserWarning: Solver status is 'infeasible'.\n",
      "  warn(f\"Solver status is '{status}'.\", UserWarning)\n"
     ]
    }
   ],
   "source": [
    "glc_concentrations=range(0,1000,10)\n",
    "lact_prod=[]\n",
    "\n",
    "for conc in glc_concentrations:\n",
    "    medium = model_yeastv3.medium\n",
    "    medium[\"EX_glc__D_e\"] = conc\n",
    "    model_yeastv3.medium = medium\n",
    "    model_yeastv3.objective = \"EX_lac__D_e\"\n",
    "    model_yeastv3.optimize()\n",
    "    lact_prod.append(model_yeastv3.optimize().objective_value)\n"
   ]
  },
  {
   "cell_type": "markdown",
   "id": "d0337683",
   "metadata": {},
   "source": [
    "Now we can plot our results :)"
   ]
  },
  {
   "cell_type": "code",
   "execution_count": 156,
   "id": "be04cdcb",
   "metadata": {},
   "outputs": [
    {
     "data": {
      "image/png": "[encoded data removed]",
      "text/plain": [
       "<Figure size 432x288 with 1 Axes>"
      ]
     },
     "metadata": {
      "needs_background": "light"
     },
     "output_type": "display_data"
    }
   ],
   "source": [
    "import matplotlib.pyplot as plt\n",
    "x_axis=glc_concentrations\n",
    "y_axis=lact_prod\n",
    "plt.plot(x_axis, y_axis)\n",
    "plt.title('Warburg effect on yeast model')\n",
    "plt.xlabel('Glucose concentration 1 mol / [1 gDW * 24 h]')\n",
    "plt.ylabel('D-Lactate production')\n",
    "plt.show()"
   ]
  },
  {
   "cell_type": "code",
   "execution_count": null,
   "id": "eb661aea",
   "metadata": {},
   "outputs": [],
   "source": []
  },
  {
   "cell_type": "markdown",
   "id": "1d01324b",
   "metadata": {},
   "source": [
    "END :)\n"
   ]
  }
 ],
 "metadata": {
  "kernelspec": {
   "display_name": "Python 3 (ipykernel)",
   "language": "python",
   "name": "python3"
  },
  "language_info": {
   "codemirror_mode": {
    "name": "ipython",
    "version": 3
   },
   "file_extension": ".py",
   "mimetype": "text/x-python",
   "name": "python",
   "nbconvert_exporter": "python",
   "pygments_lexer": "ipython3",
   "version": "3.8.13"
  }
 },
 "nbformat": 4,
 "nbformat_minor": 5
}
