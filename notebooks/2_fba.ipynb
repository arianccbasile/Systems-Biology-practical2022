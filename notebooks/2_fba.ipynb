{
 "cells": [
  {
   "cell_type": "markdown",
   "id": "c2d69c42",
   "metadata": {},
   "source": [
    "# 2. Playing around"
   ]
  },
  {
   "cell_type": "markdown",
   "id": "0130a9a1",
   "metadata": {},
   "source": [
    "Author: Arianna Basile, MRC Toxicology Unit, University of Cambridge"
   ]
  },
  {
   "cell_type": "markdown",
   "id": "ca772315",
   "metadata": {},
   "source": [
    "__________________________________________________________________________________________________________________\n",
    "In this tutorial:\n",
    "<ul>\n",
    "    <li>You will change the growth medium of your reconstruction (2.1) </li>\n",
    "    <li>Perform gene essentiality analysis on different conditions (2.2)</li>\n",
    "    <li>Case study: simulating the Carbtree effect in yeast (2.3) </li>\n",
    "</ul>\n"
   ]
  },
  {
   "cell_type": "code",
   "execution_count": 1,
   "id": "1649f9a9",
   "metadata": {},
   "outputs": [],
   "source": [
    "#import the needed packages\n",
    "import cobra\n",
    "\n",
    "#enable autocompleting with tab\n",
    "%config Completer.use_jedi = False\n"
   ]
  },
  {
   "cell_type": "code",
   "execution_count": 2,
   "id": "21ae468d",
   "metadata": {},
   "outputs": [],
   "source": [
    "model_yeast=cobra.io.read_sbml_model(\"iMM904.xml.gz\")"
   ]
  },
  {
   "cell_type": "markdown",
   "id": "edda7e4f",
   "metadata": {},
   "source": [
    "## 2.1 Growth medium"
   ]
  },
  {
   "cell_type": "markdown",
   "id": "9f22e795",
   "metadata": {},
   "source": [
    "The availability of nutrients has a major impact on metabolic fluxes and cobrapy provides some helpers to manage the exchanges between the external environment and your metabolic model. In experimental settings the “environment” is usually constituted by the growth medium, ergo the concentrations of all metabolites and co-factors available to the modeled organism. However, constraint-based metabolic models only consider fluxes. Thus, you can not simply use concentrations since fluxes have the unit mmol / [gDW h] (concentration per gram dry weight of cells and hour).\n",
    "\n",
    "Also, you are setting an upper bound for the particular import flux and not the flux itself. There are some crude approximations. For instance, if you supply 1 mol of glucose every 24h to 1 gram of bacteria you might set the upper exchange flux for glucose to 1 mol / [1 gDW * h] since that is the nominal maximum that can be imported. There is no guarantee however that glucose will be consumed with that flux. Thus, the preferred data for exchange fluxes are direct flux measurements as the ones obtained from timecourse exa-metabolome measurements for instance.\n",
    "\n",
    "So how does that look in COBRApy? The current growth medium of a model is managed by the medium attribute."
   ]
  },
  {
   "cell_type": "code",
   "execution_count": 3,
   "id": "618d6e25",
   "metadata": {},
   "outputs": [
    {
     "data": {
      "text/plain": [
       "{'EX_fe2_e': 999999.0,\n",
       " 'EX_glc__D_e': 10.0,\n",
       " 'EX_h2o_e': 999999.0,\n",
       " 'EX_h_e': 999999.0,\n",
       " 'EX_k_e': 999999.0,\n",
       " 'EX_na1_e': 999999.0,\n",
       " 'EX_so4_e': 999999.0,\n",
       " 'EX_nh4_e': 999999.0,\n",
       " 'EX_o2_e': 2.0,\n",
       " 'EX_pi_e': 999999.0}"
      ]
     },
     "execution_count": 3,
     "metadata": {},
     "output_type": "execute_result"
    }
   ],
   "source": [
    "medium=model_yeast.medium\n",
    "medium"
   ]
  },
  {
   "cell_type": "markdown",
   "id": "fd322988",
   "metadata": {},
   "source": [
    "This will return a dictionary that contains the upper flux bounds for all active exchange fluxes (the ones having non-zero flux bounds). Right now we see that we have enabled aerobic growth. \n",
    "Let's optimize to check the growth in the given medium."
   ]
  },
  {
   "cell_type": "code",
   "execution_count": 4,
   "id": "f7e6bf8b",
   "metadata": {},
   "outputs": [
    {
     "data": {
      "text/html": [
       "<strong><em>Optimal</em> solution with objective value 0.288</strong><br><div>\n",
       "<style scoped>\n",
       "    .dataframe tbody tr th:only-of-type {\n",
       "        vertical-align: middle;\n",
       "    }\n",
       "\n",
       "    .dataframe tbody tr th {\n",
       "        vertical-align: top;\n",
       "    }\n",
       "\n",
       "    .dataframe thead th {\n",
       "        text-align: right;\n",
       "    }\n",
       "</style>\n",
       "<table border=\"1\" class=\"dataframe\">\n",
       "  <thead>\n",
       "    <tr style=\"text-align: right;\">\n",
       "      <th></th>\n",
       "      <th>fluxes</th>\n",
       "      <th>reduced_costs</th>\n",
       "    </tr>\n",
       "  </thead>\n",
       "  <tbody>\n",
       "    <tr>\n",
       "      <th>CITtcp</th>\n",
       "      <td>0.000000</td>\n",
       "      <td>0.000000e+00</td>\n",
       "    </tr>\n",
       "    <tr>\n",
       "      <th>13BGH</th>\n",
       "      <td>0.000000</td>\n",
       "      <td>-4.751566e-02</td>\n",
       "    </tr>\n",
       "    <tr>\n",
       "      <th>13BGHe</th>\n",
       "      <td>0.000000</td>\n",
       "      <td>0.000000e+00</td>\n",
       "    </tr>\n",
       "    <tr>\n",
       "      <th>13GS</th>\n",
       "      <td>0.326670</td>\n",
       "      <td>0.000000e+00</td>\n",
       "    </tr>\n",
       "    <tr>\n",
       "      <th>16GS</th>\n",
       "      <td>0.000000</td>\n",
       "      <td>0.000000e+00</td>\n",
       "    </tr>\n",
       "    <tr>\n",
       "      <th>...</th>\n",
       "      <td>...</td>\n",
       "      <td>...</td>\n",
       "    </tr>\n",
       "    <tr>\n",
       "      <th>PYDXO</th>\n",
       "      <td>0.000000</td>\n",
       "      <td>0.000000e+00</td>\n",
       "    </tr>\n",
       "    <tr>\n",
       "      <th>PYK</th>\n",
       "      <td>17.721990</td>\n",
       "      <td>1.040834e-17</td>\n",
       "    </tr>\n",
       "    <tr>\n",
       "      <th>PYNP2r</th>\n",
       "      <td>0.000000</td>\n",
       "      <td>1.387779e-17</td>\n",
       "    </tr>\n",
       "    <tr>\n",
       "      <th>PYR5CDm</th>\n",
       "      <td>0.000000</td>\n",
       "      <td>0.000000e+00</td>\n",
       "    </tr>\n",
       "    <tr>\n",
       "      <th>PYRDC</th>\n",
       "      <td>15.946051</td>\n",
       "      <td>0.000000e+00</td>\n",
       "    </tr>\n",
       "  </tbody>\n",
       "</table>\n",
       "<p>1577 rows × 2 columns</p>\n",
       "</div>"
      ],
      "text/plain": [
       "<Solution 0.288 at 0x7f8b0314ab50>"
      ]
     },
     "execution_count": 4,
     "metadata": {},
     "output_type": "execute_result"
    }
   ],
   "source": [
    "model_yeast.optimize()"
   ]
  },
  {
   "cell_type": "markdown",
   "id": "c9eaa24d",
   "metadata": {},
   "source": [
    "You can modify a growth medium of a model by assigning a dictionary to model.medium that maps exchange reactions to their respective upper import bounds. Let's edit the medium to have ethanol as carbon source, instead of glucose"
   ]
  },
  {
   "cell_type": "code",
   "execution_count": 5,
   "id": "5717c8b4",
   "metadata": {},
   "outputs": [
    {
     "data": {
      "text/plain": [
       "{'EX_etoh_e': 1.0,\n",
       " 'EX_fe2_e': 999999.0,\n",
       " 'EX_h2o_e': 999999.0,\n",
       " 'EX_h_e': 999999.0,\n",
       " 'EX_k_e': 999999.0,\n",
       " 'EX_na1_e': 999999.0,\n",
       " 'EX_so4_e': 999999.0,\n",
       " 'EX_nh4_e': 999999.0,\n",
       " 'EX_o2_e': 2.0,\n",
       " 'EX_pi_e': 999999.0}"
      ]
     },
     "execution_count": 5,
     "metadata": {},
     "output_type": "execute_result"
    }
   ],
   "source": [
    "model_yeastv2=model_yeast.copy() #we are making a copy of the original model and editing the copy\n",
    "medium = model_yeastv2.medium\n",
    "medium[\"EX_glc__D_e\"] = 0\n",
    "medium[\"EX_etoh_e\"] = 1.0\n",
    "model_yeastv2.medium = medium\n",
    "\n",
    "model_yeastv2.medium"
   ]
  },
  {
   "cell_type": "markdown",
   "id": "b015f247",
   "metadata": {},
   "source": [
    "As we can see, the glucose in our medium has been replaced by ethanol. Let's check how it influences the growth rate."
   ]
  },
  {
   "cell_type": "code",
   "execution_count": 6,
   "id": "e2139003",
   "metadata": {},
   "outputs": [
    {
     "data": {
      "text/plain": [
       "0.027542115993883863"
      ]
     },
     "execution_count": 6,
     "metadata": {},
     "output_type": "execute_result"
    }
   ],
   "source": [
    "model_yeastv2.optimize()\n",
    "\n",
    "model_yeastv2.objective.value"
   ]
  },
  {
   "cell_type": "markdown",
   "id": "af9fb8c8",
   "metadata": {},
   "source": [
    "The growth rate is reduced\n"
   ]
  },
  {
   "cell_type": "markdown",
   "id": "c6438427",
   "metadata": {},
   "source": [
    "Summing up, we have the same metabolic reconstruction (iMM904) in two different conditions using different carbon sources determining two different metabolic models (model_yeast and model_yeastv2)."
   ]
  },
  {
   "cell_type": "markdown",
   "id": "c11e1bd9",
   "metadata": {},
   "source": [
    "## 2.2 Gene essentiality"
   ]
  },
  {
   "cell_type": "markdown",
   "id": "1fde259b",
   "metadata": {},
   "source": [
    "A gene is considered essential if restricting the flux of all reactions that depend on it to zero causes the objective, e.g., the growth rate, to also be zero, below the threshold, or infeasible.\n",
    "\n",
    "Now we will use the function find_essential_genes to find essential genes in both conditions, extract the IDs of the genes, and compare the two lists. Can you do it by yourself? "
   ]
  },
  {
   "cell_type": "code",
   "execution_count": 14,
   "id": "abd482c1",
   "metadata": {},
   "outputs": [],
   "source": [
    "ess_genesv2=cobra.flux_analysis.variability.find_essential_genes(model_yeastv2)\n",
    "id_ess_genesv2=[gene.id for gene in ess_genesv2]"
   ]
  },
  {
   "cell_type": "code",
   "execution_count": 15,
   "id": "ba8ddab4",
   "metadata": {
    "tags": [
     "hide_code"
    ]
   },
   "outputs": [],
   "source": [
    "ess_genes=cobra.flux_analysis.variability.find_essential_genes(model_yeast)\n",
    "id_ess_genes=[gene.id for gene in ess_genes]"
   ]
  },
  {
   "cell_type": "code",
   "execution_count": 16,
   "id": "f4a259d3",
   "metadata": {},
   "outputs": [
    {
     "name": "stdout",
     "output_type": "stream",
     "text": [
      "154\n",
      "110\n"
     ]
    }
   ],
   "source": [
    "len(id_ess_genesv2)\n",
    "len(id_ess_genes)\n"
   ]
  },
  {
   "cell_type": "code",
   "execution_count": 17,
   "id": "2a2ce91e",
   "metadata": {
    "scrolled": true,
    "tags": [
     "hide_code"
    ]
   },
   "outputs": [
    {
     "data": {
      "text/plain": [
       "110"
      ]
     },
     "execution_count": 17,
     "metadata": {},
     "output_type": "execute_result"
    }
   ],
   "source": [
    "a=list(set(id_ess_genesv2) & set(id_ess_genes))\n",
    "len(a)"
   ]
  },
  {
   "cell_type": "code",
   "execution_count": 18,
   "id": "dceb28b2",
   "metadata": {
    "scrolled": true,
    "tags": [
     "hide_code"
    ]
   },
   "outputs": [
    {
     "data": {
      "text/plain": [
       "['YHR051W',\n",
       " 'YDR298C',\n",
       " 'YHR001W_A',\n",
       " 'YFR033C',\n",
       " 'Q0250',\n",
       " 'Q0045',\n",
       " 'YJR121W',\n",
       " 'YGL187C',\n",
       " 'YER065C',\n",
       " 'YEL024W',\n",
       " 'Q0130',\n",
       " 'YPL078C',\n",
       " 'Q0085',\n",
       " 'YPR191W',\n",
       " 'YDL067C',\n",
       " 'YDR529C',\n",
       " 'Q0275',\n",
       " 'YDR377W',\n",
       " 'Q0105',\n",
       " 'YLR038C',\n",
       " 'YBL099W',\n",
       " 'YPL262W',\n",
       " 'Q0080',\n",
       " 'YGL191W',\n",
       " 'YBL045C',\n",
       " 'YDR050C',\n",
       " 'YML081C_A',\n",
       " 'YDL181W',\n",
       " 'YMR256C',\n",
       " 'YLR295C',\n",
       " 'YCR012W',\n",
       " 'YOR065W',\n",
       " 'YDL004W',\n",
       " 'YBR039W',\n",
       " 'YLL041C',\n",
       " 'YKL016C',\n",
       " 'YKL060C',\n",
       " 'YBR196C',\n",
       " 'YLR395C',\n",
       " 'YGR183C',\n",
       " 'YLR377C',\n",
       " 'YKR097W',\n",
       " 'YJL166W',\n",
       " 'YPL271W']"
      ]
     },
     "execution_count": 18,
     "metadata": {},
     "output_type": "execute_result"
    }
   ],
   "source": [
    "list(set(id_ess_genesv2) - set(id_ess_genes))"
   ]
  },
  {
   "cell_type": "code",
   "execution_count": 19,
   "id": "becfe6d9",
   "metadata": {
    "scrolled": true,
    "tags": [
     "hide_code"
    ]
   },
   "outputs": [
    {
     "data": {
      "text/plain": [
       "[]"
      ]
     },
     "execution_count": 19,
     "metadata": {},
     "output_type": "execute_result"
    }
   ],
   "source": [
    "list(set(id_ess_genes) - set(id_ess_genesv2))"
   ]
  },
  {
   "cell_type": "markdown",
   "id": "e12d89bd",
   "metadata": {},
   "source": [
    "### Exercises"
   ]
  },
  {
   "cell_type": "markdown",
   "id": "3ce3e42e",
   "metadata": {},
   "source": [
    "1) Why there are more essential genes for growth on ethanol than for growth on glucose? \n",
    "\n",
    "2) What are the features of the genes essential only for growth on ethanol?"
   ]
  },
  {
   "cell_type": "markdown",
   "id": "fc7cdf74",
   "metadata": {},
   "source": [
    "## 2.3 Simulating the Crabtree effect \n"
   ]
  },
  {
   "attachments": {
    "image-3.png": {
     "image/png": "[encoded data removed]"
    }
   },
   "cell_type": "markdown",
   "id": "29bb4696",
   "metadata": {},
   "source": [
    "\n",
    "Yeast central carbon metabolic pathways: all short-term Crabtree positive yeasts possess an upregulated aerobic (blue) and anaerobic (red) glycolytic pathway, even under fully aerobic conditions, when energy and carbon-source is limiting. At low glucose uptake rates, yeasts cells are purely respiring and there is a carbon-flux only through glycolysis (GF) and respiration (RF). Upon a sudden glucose excess condition (glucose pulse), the glycolytic flux will exceed the respiratory flux, which results in a fermentative flux (FF) and ethanol production. In other words, it appears as if slowly dividing short-term Crabtree positive cells, with little food around are already equipped with a strong energy producing apparatus, for rapid glucose consumption and energy production.\n",
    "\n",
    "![image-3.png](attachment:image-3.png)\n",
    "(Adapted from <a href=\"https://journals.plos.org/plosone/article?id=10.1371/journal.pone.0116942\">Hagman and Piškur, 2015</a>)"
   ]
  },
  {
   "cell_type": "markdown",
   "id": "6a9e90c8",
   "metadata": {},
   "source": [
    "To simulate the Carbtree effect, we consider a fixed amount of glucose and different concentrations of oxygen in our medium. "
   ]
  },
  {
   "cell_type": "code",
   "execution_count": 33,
   "id": "3c25ede1",
   "metadata": {},
   "outputs": [],
   "source": [
    "model_yeastv3=model_yeast.copy()\n",
    "\n",
    "oxygen_concentrations=range(5,400,10)\n",
    "oxygen_concentrations = [ x / 100 for x in oxygen_concentrations]\n",
    "etoh_prod=[]\n",
    "\n",
    "for conc in oxygen_concentrations:\n",
    "    medium = model_yeastv3.medium\n",
    "    medium[\"EX_glc__D_e\"] = 15\n",
    "    medium[\"EX_o2_e\"]=conc\n",
    "    model_yeastv3.medium = medium\n",
    "    opt=model_yeastv3.optimize()\n",
    "    etoh_prod.append(opt.fluxes[\"EX_etoh_e\"])\n"
   ]
  },
  {
   "cell_type": "markdown",
   "id": "d0337683",
   "metadata": {},
   "source": [
    "Now we can plot our results :)"
   ]
  },
  {
   "cell_type": "code",
   "execution_count": 34,
   "id": "be04cdcb",
   "metadata": {},
   "outputs": [
    {
     "data": {
      "image/png": "[encoded data removed]",
      "text/plain": [
       "<Figure size 432x288 with 1 Axes>"
      ]
     },
     "metadata": {
      "needs_background": "light"
     },
     "output_type": "display_data"
    }
   ],
   "source": [
    "import matplotlib.pyplot as plt\n",
    "x_axis=oxygen_concentrations\n",
    "y_axis=etoh_prod\n",
    "plt.plot(x_axis, y_axis)\n",
    "plt.title('Crabtree effect on yeast model')\n",
    "plt.xlabel('Oxygen uptake mol / [1 gDW * h]')\n",
    "plt.ylabel('Ethanol production')\n",
    "plt.show()"
   ]
  },
  {
   "cell_type": "code",
   "execution_count": 1,
   "id": "eb661aea",
   "metadata": {},
   "outputs": [],
   "source": [
    "#if you want you can try similar analyses using different carbon sources, e.g. D-mannose\n",
    "#type your code here, solutions in the html"
   ]
  },
  {
   "cell_type": "markdown",
   "id": "1d01324b",
   "metadata": {},
   "source": [
    "END :)\n"
   ]
  }
 ],
 "metadata": {
  "kernelspec": {
   "display_name": "Python 3 (ipykernel)",
   "language": "python",
   "name": "python3"
  },
  "language_info": {
   "codemirror_mode": {
    "name": "ipython",
    "version": 3
   },
   "file_extension": ".py",
   "mimetype": "text/x-python",
   "name": "python",
   "nbconvert_exporter": "python",
   "pygments_lexer": "ipython3",
   "version": "3.8.13"
  }
 },
 "nbformat": 4,
 "nbformat_minor": 5
}
