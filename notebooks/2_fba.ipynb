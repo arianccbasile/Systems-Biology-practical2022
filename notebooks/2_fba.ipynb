{
 "cells": [
  {
   "cell_type": "markdown",
   "id": "c2d69c42",
   "metadata": {},
   "source": [
    "# 2. Playing around with media conditions"
   ]
  },
  {
   "cell_type": "markdown",
   "id": "0130a9a1",
   "metadata": {},
   "source": [
    "## Authors\n",
    "* Arianna Basile, MRC Toxicology Unit, University of Cambridge\n",
    "* Francisco Zorrilla, MRC Toxicology Unit, University of Cambridge"
   ]
  },
  {
   "cell_type": "markdown",
   "id": "ca772315",
   "metadata": {},
   "source": [
    "## Learning outcomes\n",
    "\n",
    "In this tutorial you will use [cobrapy](https://cobrapy.readthedocs.io/en/latest/) to learn the following:\n",
    "\n",
    "- **2.1**: Modify growth medium of your reconstruction\n",
    "- **2.2**: Perform gene essentiality analysis under different conditions\n",
    "- **2.3**: Case study, simulate the Carbtree effect in yeast\n",
    "\n",
    "## Setup"
   ]
  },
  {
   "cell_type": "code",
   "execution_count": 1,
   "id": "1649f9a9",
   "metadata": {},
   "outputs": [],
   "source": [
    "# Import packages\n",
    "import cobra\n",
    "\n",
    "# Enable autocompleting with tab\n",
    "%config Completer.use_jedi = False"
   ]
  },
  {
   "cell_type": "markdown",
   "id": "edda7e4f",
   "metadata": {},
   "source": [
    "## 2.1 Growth medium"
   ]
  },
  {
   "cell_type": "markdown",
   "id": "9f22e795",
   "metadata": {},
   "source": [
    "The availability of nutrients has a major impact on metabolic fluxes and `cobrapy` provides some helpers to manage the exchanges between the external environment and your metabolic model. In experimental settings the “environment” is usually constituted by the growth medium, i.e. the concentrations of all metabolites and co-factors available to the modeled organism. However, constraint-based metabolic models only consider fluxes. Thus, you cannot simply use concentrations since fluxes have the unit `mmol / [gram of dry-cell weight * hour]` (i.e. concentration per gram dry weight of cells and hour).\n",
    "\n",
    "Also, you are setting an upper bound for the particular import flux and not the flux itself. There are some crude approximations. For instance, if you supply 1 mol of glucose every 24h to 1 gram of bacteria you might set the upper exchange flux for glucose to `1 mol / [1 gDW * h]` since that is the nominal maximum that can be imported. There is no guarantee however that glucose will be consumed with that flux. Thus, the preferred data for exchange fluxes are direct flux measurements as the ones obtained from timecourse exa-metabolome measurements for instance.\n",
    "\n",
    "So how does that look in COBRApy? The current growth medium of a model is managed by the medium attribute."
   ]
  },
  {
   "cell_type": "code",
   "execution_count": 2,
   "id": "618d6e25",
   "metadata": {},
   "outputs": [
    {
     "data": {
      "text/plain": [
       "{'EX_fe2_e': 999999.0,\n",
       " 'EX_glc__D_e': 10.0,\n",
       " 'EX_h2o_e': 999999.0,\n",
       " 'EX_h_e': 999999.0,\n",
       " 'EX_k_e': 999999.0,\n",
       " 'EX_na1_e': 999999.0,\n",
       " 'EX_so4_e': 999999.0,\n",
       " 'EX_nh4_e': 999999.0,\n",
       " 'EX_o2_e': 2.0,\n",
       " 'EX_pi_e': 999999.0}"
      ]
     },
     "execution_count": 2,
     "metadata": {},
     "output_type": "execute_result"
    }
   ],
   "source": [
    "# Import model\n",
    "model_yeast=cobra.io.read_sbml_model(\"iMM904.xml.gz\")\n",
    "\n",
    "# Extract media information\n",
    "medium=model_yeast.medium\n",
    "\n",
    "# Show uptake bounds for extracellular media\n",
    "medium"
   ]
  },
  {
   "cell_type": "markdown",
   "id": "fd322988",
   "metadata": {},
   "source": [
    "This will return a dictionary that contains the upper flux bounds for all active exchange fluxes (the ones having non-zero flux bounds). Right now we see that we have enabled aerobic growth. \n",
    "Let's optimize to check the growth in the given medium."
   ]
  },
  {
   "cell_type": "code",
   "execution_count": 3,
   "id": "f7e6bf8b",
   "metadata": {},
   "outputs": [
    {
     "data": {
      "text/plain": [
       "0.28786570370401793"
      ]
     },
     "execution_count": 3,
     "metadata": {},
     "output_type": "execute_result"
    }
   ],
   "source": [
    "# Solve FBA\n",
    "model_yeast.optimize()\n",
    "\n",
    "# Show growth rate with glucose as carbon source\n",
    "model_yeast.objective.value"
   ]
  },
  {
   "cell_type": "markdown",
   "id": "c9eaa24d",
   "metadata": {},
   "source": [
    "You can modify a growth medium of a model by assigning a dictionary to `model.medium` that maps exchange reactions to their respective upper import bounds. Let's edit the medium to have ethanol as carbon source instead of glucose."
   ]
  },
  {
   "cell_type": "code",
   "execution_count": 4,
   "id": "5717c8b4",
   "metadata": {},
   "outputs": [
    {
     "data": {
      "text/plain": [
       "{'EX_etoh_e': 1.0,\n",
       " 'EX_fe2_e': 999999.0,\n",
       " 'EX_h2o_e': 999999.0,\n",
       " 'EX_h_e': 999999.0,\n",
       " 'EX_k_e': 999999.0,\n",
       " 'EX_na1_e': 999999.0,\n",
       " 'EX_so4_e': 999999.0,\n",
       " 'EX_nh4_e': 999999.0,\n",
       " 'EX_o2_e': 2.0,\n",
       " 'EX_pi_e': 999999.0}"
      ]
     },
     "execution_count": 4,
     "metadata": {},
     "output_type": "execute_result"
    }
   ],
   "source": [
    "# Make a copy of the original model\n",
    "model_yeastv2=model_yeast.copy()\n",
    "\n",
    "# Extract media information\n",
    "medium = model_yeastv2.medium\n",
    "\n",
    "# Define new media uptake bounds\n",
    "medium[\"EX_glc__D_e\"] = 0\n",
    "medium[\"EX_etoh_e\"] = 1.0\n",
    "\n",
    "# Update new media uptake bounds in model copy\n",
    "model_yeastv2.medium = medium\n",
    "\n",
    "# Show new uptake bounds\n",
    "model_yeastv2.medium"
   ]
  },
  {
   "cell_type": "markdown",
   "id": "b015f247",
   "metadata": {},
   "source": [
    "As we can see, the glucose in our medium has been replaced by ethanol. Let's check how it influences the growth rate."
   ]
  },
  {
   "cell_type": "code",
   "execution_count": 5,
   "id": "e2139003",
   "metadata": {},
   "outputs": [
    {
     "data": {
      "text/plain": [
       "0.027542115993883887"
      ]
     },
     "execution_count": 5,
     "metadata": {},
     "output_type": "execute_result"
    }
   ],
   "source": [
    "# Solve FBA with new uptake bounds\n",
    "model_yeastv2.optimize()\n",
    "\n",
    "# Show growth rate with ethanol as carbon source\n",
    "model_yeastv2.objective.value"
   ]
  },
  {
   "cell_type": "markdown",
   "id": "af9fb8c8",
   "metadata": {},
   "source": [
    "The growth rate is reduced when growing on ethanol compared to glucose. In conclusion, we have the same metabolic reconstruction (`iMM904`), simulated under two different media conditions using different carbon sources. `model_yeast` is growing with glucose as a carbon source while `model_yeastv2` is using ethanol.\n",
    "\n",
    "### Questions\n",
    "\n",
    "1. Can the yeast model grow using lactose as a carbon source? Why?\n",
    "2. What happens when you lower the uptake rate of ammonium? How about when it is set to 0?\n",
    "3. Can you quantify the changes in growth rate after adding an amino acid of your choice to the media?"
   ]
  },
  {
   "cell_type": "markdown",
   "id": "c11e1bd9",
   "metadata": {},
   "source": [
    "## 2.2 Gene essentiality"
   ]
  },
  {
   "cell_type": "markdown",
   "id": "1fde259b",
   "metadata": {},
   "source": [
    "A gene is considered essential if restricting the flux of all reactions that depend on it to zero causes the objective, e.g., the growth rate, to also be zero, fall below a given threshold, or result in infeasible solutions.\n",
    "\n",
    "Now we will use the function `find_essential_genes` to find essential genes in both conditions, extract the IDs of the genes, and compare the two lists. Can you do it on your own?\n",
    "\n",
    "First lets check the model growing with ethanol as a carbon source:"
   ]
  },
  {
   "cell_type": "code",
   "execution_count": 6,
   "id": "abd482c1",
   "metadata": {},
   "outputs": [
    {
     "name": "stdout",
     "output_type": "stream",
     "text": [
      "Essential genes with ethanol carbon source:  154\n"
     ]
    }
   ],
   "source": [
    "# Find essential genes for model growing under ethanol condition\n",
    "essential_genes_v2=cobra.flux_analysis.variability.find_essential_genes(model_yeastv2)\n",
    "\n",
    "# Get genes IDs\n",
    "id_essential_genes_v2=[gene.id for gene in essential_genes_v2]\n",
    "\n",
    "# Print number of esssential genes\n",
    "print(\"Essential genes with ethanol carbon source: \",len(id_essential_genes_v2))"
   ]
  },
  {
   "cell_type": "markdown",
   "id": "a12284a1",
   "metadata": {},
   "source": [
    "Next lets check the model growing with glucose as a carbon source:"
   ]
  },
  {
   "cell_type": "code",
   "execution_count": 7,
   "id": "ba8ddab4",
   "metadata": {
    "tags": [
     "hide_code"
    ]
   },
   "outputs": [
    {
     "name": "stdout",
     "output_type": "stream",
     "text": [
      "Essential genes with glucose carbon source:  110\n"
     ]
    }
   ],
   "source": [
    "# Find essential genes for model growing under glucose condition\n",
    "essential_genes=cobra.flux_analysis.variability.find_essential_genes(model_yeast)\n",
    "\n",
    "# Get genes IDs\n",
    "id_essential_genes=[gene.id for gene in essential_genes]\n",
    "\n",
    "# Print number of essential genes\n",
    "print(\"Essential genes with glucose carbon source: \",len(id_essential_genes))"
   ]
  },
  {
   "cell_type": "markdown",
   "id": "623f425a",
   "metadata": {},
   "source": [
    "Check how large the intersect is between the two lists:"
   ]
  },
  {
   "cell_type": "code",
   "execution_count": 8,
   "id": "2a2ce91e",
   "metadata": {
    "scrolled": true,
    "tags": [
     "hide_code"
    ]
   },
   "outputs": [
    {
     "name": "stdout",
     "output_type": "stream",
     "text": [
      "Interect of essential genes between conditions:  110\n"
     ]
    }
   ],
   "source": [
    "a=list(set(id_essential_genes_v2) & set(id_essential_genes))\n",
    "print(\"Interect of essential genes between conditions: \",len(a))"
   ]
  },
  {
   "cell_type": "markdown",
   "id": "04cc7e94",
   "metadata": {},
   "source": [
    "Lets check which genes are unique to each condition:"
   ]
  },
  {
   "cell_type": "code",
   "execution_count": 9,
   "id": "dceb28b2",
   "metadata": {
    "scrolled": true,
    "tags": [
     "hide_code"
    ]
   },
   "outputs": [
    {
     "name": "stdout",
     "output_type": "stream",
     "text": [
      "Essential genes unique to ethanol growth condition: 44\n"
     ]
    },
    {
     "data": {
      "text/plain": [
       "['Q0130',\n",
       " 'YBL099W',\n",
       " 'YPL271W',\n",
       " 'YGL191W',\n",
       " 'YCR012W',\n",
       " 'YFR033C',\n",
       " 'YHR001W_A',\n",
       " 'YML081C_A',\n",
       " 'YER065C',\n",
       " 'YBR196C',\n",
       " 'YMR256C',\n",
       " 'YGR183C',\n",
       " 'YBL045C',\n",
       " 'YKL060C',\n",
       " 'YPL078C',\n",
       " 'YLR038C',\n",
       " 'YDL067C',\n",
       " 'YDR050C',\n",
       " 'Q0080',\n",
       " 'YLR377C',\n",
       " 'YPR191W',\n",
       " 'Q0250',\n",
       " 'YDL004W',\n",
       " 'YJR121W',\n",
       " 'YEL024W',\n",
       " 'YDL181W',\n",
       " 'Q0275',\n",
       " 'YOR065W',\n",
       " 'YDR529C',\n",
       " 'YDR377W',\n",
       " 'Q0045',\n",
       " 'YDR298C',\n",
       " 'YHR051W',\n",
       " 'YKR097W',\n",
       " 'YBR039W',\n",
       " 'YLR295C',\n",
       " 'YGL187C',\n",
       " 'YLR395C',\n",
       " 'Q0105',\n",
       " 'Q0085',\n",
       " 'YPL262W',\n",
       " 'YLL041C',\n",
       " 'YKL016C',\n",
       " 'YJL166W']"
      ]
     },
     "execution_count": 9,
     "metadata": {},
     "output_type": "execute_result"
    }
   ],
   "source": [
    "print(\"Essential genes unique to ethanol growth condition:\",len(list(set(id_essential_genes_v2) - set(id_essential_genes))))\n",
    "list(set(id_essential_genes_v2) - set(id_essential_genes))"
   ]
  },
  {
   "cell_type": "code",
   "execution_count": 10,
   "id": "becfe6d9",
   "metadata": {
    "scrolled": true,
    "tags": [
     "hide_code"
    ]
   },
   "outputs": [
    {
     "name": "stdout",
     "output_type": "stream",
     "text": [
      "Essential genes unique to glucose growth condition: 0\n"
     ]
    },
    {
     "data": {
      "text/plain": [
       "[]"
      ]
     },
     "execution_count": 10,
     "metadata": {},
     "output_type": "execute_result"
    }
   ],
   "source": [
    "print(\"Essential genes unique to glucose growth condition:\",len(list(set(id_essential_genes) - set(id_essential_genes_v2))))\n",
    "list(set(id_essential_genes) - set(id_essential_genes_v2))"
   ]
  },
  {
   "cell_type": "markdown",
   "id": "e12d89bd",
   "metadata": {},
   "source": [
    "### Questions"
   ]
  },
  {
   "cell_type": "markdown",
   "id": "3ce3e42e",
   "metadata": {},
   "source": [
    "1. Why there are more essential genes for growth on ethanol than for growth on glucose? \n",
    "2. What are the features of the genes essential only for growth on ethanol?\n",
    "3. Choose an essential gene unique to growth in ethanol and search the literature for its function. Does it make sense to you that it is essential?"
   ]
  },
  {
   "cell_type": "markdown",
   "id": "fc7cdf74",
   "metadata": {},
   "source": [
    "## 2.3 Simulating the Crabtree effect \n"
   ]
  },
  {
   "attachments": {
    "image-3.png": {
     "image/png": "[encoded data removed]"
    }
   },
   "cell_type": "markdown",
   "id": "29bb4696",
   "metadata": {},
   "source": [
    "\n",
    "Yeast central carbon metabolic pathways: all short-term Crabtree positive yeasts possess an upregulated aerobic (blue) and anaerobic (red) glycolytic pathway, even under fully aerobic conditions, when energy and carbon-source is limiting. At low glucose uptake rates, yeasts cells are purely respiring and there is a carbon-flux only through glycolysis (GF) and respiration (RF). Upon a sudden glucose excess condition (glucose pulse), the glycolytic flux will exceed the respiratory flux, which results in a fermentative flux (FF) and ethanol production. In other words, it appears as if slowly dividing short-term Crabtree positive cells, with little food around are already equipped with a strong energy producing apparatus, for rapid glucose consumption and energy production.\n",
    "\n",
    "![image-3.png](attachment:image-3.png)\n",
    "(Adapted from <a href=\"https://journals.plos.org/plosone/article?id=10.1371/journal.pone.0116942\">Hagman and Piškur, 2015</a>)"
   ]
  },
  {
   "cell_type": "markdown",
   "id": "6a9e90c8",
   "metadata": {},
   "source": [
    "To simulate the Carbtree effect, we consider a fixed amount of glucose and different concentrations of oxygen in our medium. "
   ]
  },
  {
   "cell_type": "code",
   "execution_count": 11,
   "id": "3c25ede1",
   "metadata": {},
   "outputs": [],
   "source": [
    "# Create copy of model\n",
    "model_yeastv3=model_yeast.copy()\n",
    "\n",
    "# Define range of oxygen uptake rates\n",
    "oxygen_uptakes=range(5,400,10)\n",
    "oxygen_uptakes = [ x / 100 for x in oxygen_uptakes]\n",
    "\n",
    "# Define ethanol production vector\n",
    "etoh_prod=[]\n",
    "\n",
    "# Simulate under varying oxygen uptake rates, fixed glucose\n",
    "for flux in oxygen_uptakes:\n",
    "    medium = model_yeastv3.medium\n",
    "    medium[\"EX_glc__D_e\"] = 15\n",
    "    medium[\"EX_o2_e\"]=flux\n",
    "    model_yeastv3.medium = medium\n",
    "    opt=model_yeastv3.optimize()\n",
    "    etoh_prod.append(opt.fluxes[\"EX_etoh_e\"])\n"
   ]
  },
  {
   "cell_type": "markdown",
   "id": "d0337683",
   "metadata": {},
   "source": [
    "Plot results"
   ]
  },
  {
   "cell_type": "code",
   "execution_count": 12,
   "id": "be04cdcb",
   "metadata": {},
   "outputs": [
    {
     "data": {
      "image/png": "[encoded data removed]",
      "text/plain": [
       "<Figure size 432x288 with 1 Axes>"
      ]
     },
     "metadata": {
      "needs_background": "light"
     },
     "output_type": "display_data"
    }
   ],
   "source": [
    "# Import plotting library\n",
    "import matplotlib.pyplot as plt\n",
    "\n",
    "# Define plot\n",
    "x_axis=oxygen_uptakes\n",
    "y_axis=etoh_prod\n",
    "plt.plot(x_axis, y_axis)\n",
    "plt.title('Crabtree effect in yeast model')\n",
    "plt.xlabel('Oxygen uptake mol / [1 gDW * h]')\n",
    "plt.ylabel('Ethanol production')\n",
    "plt.show()"
   ]
  },
  {
   "cell_type": "code",
   "execution_count": 13,
   "id": "eb661aea",
   "metadata": {},
   "outputs": [],
   "source": [
    "#if you want you can try similar analyses using different carbon sources, e.g. D-mannose\n",
    "#type your code here, solutions in the html"
   ]
  },
  {
   "cell_type": "markdown",
   "id": "1d01324b",
   "metadata": {},
   "source": [
    "### Questions:\n",
    "\n",
    "1. Can you explain the observed behavior in the plot above?\n",
    "2. Try playing around with other media components, for example, what happens if you keep oxygen fixed and vary glucose?\n",
    "3. What is the Warburg effect? What is the medical relevance of this phenomenon?\n"
   ]
  }
 ],
 "metadata": {
  "kernelspec": {
   "display_name": "Python 3",
   "language": "python",
   "name": "python3"
  },
  "language_info": {
   "codemirror_mode": {
    "name": "ipython",
    "version": 3
   },
   "file_extension": ".py",
   "mimetype": "text/x-python",
   "name": "python",
   "nbconvert_exporter": "python",
   "pygments_lexer": "ipython3",
   "version": "3.8.8"
  }
 },
 "nbformat": 4,
 "nbformat_minor": 5
}
